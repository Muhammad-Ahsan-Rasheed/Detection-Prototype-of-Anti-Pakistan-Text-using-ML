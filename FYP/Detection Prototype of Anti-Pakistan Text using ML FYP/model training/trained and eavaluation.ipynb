{
 "cells": [
  {
   "cell_type": "code",
   "execution_count": 1,
   "id": "77161898",
   "metadata": {
    "pycharm": {
     "name": "#%%\n"
    }
   },
   "outputs": [],
   "source": [
    "import pandas as pd"
   ]
  },
  {
   "cell_type": "markdown",
   "id": "0d13ae35",
   "metadata": {
    "pycharm": {
     "name": "#%% md\n"
    }
   },
   "source": [
    "# reading the data"
   ]
  },
  {
   "cell_type": "code",
   "execution_count": 2,
   "id": "8ab3e730",
   "metadata": {
    "pycharm": {
     "name": "#%%\n"
    }
   },
   "outputs": [],
   "source": [
    "data=pd.read_csv('train data.csv')"
   ]
  },
  {
   "cell_type": "code",
   "execution_count": 3,
   "id": "ec68c1dc",
   "metadata": {
    "pycharm": {
     "name": "#%%\n"
    }
   },
   "outputs": [
    {
     "data": {
      "text/html": [
       "<div>\n",
       "<style scoped>\n",
       "    .dataframe tbody tr th:only-of-type {\n",
       "        vertical-align: middle;\n",
       "    }\n",
       "\n",
       "    .dataframe tbody tr th {\n",
       "        vertical-align: top;\n",
       "    }\n",
       "\n",
       "    .dataframe thead th {\n",
       "        text-align: right;\n",
       "    }\n",
       "</style>\n",
       "<table border=\"1\" class=\"dataframe\">\n",
       "  <thead>\n",
       "    <tr style=\"text-align: right;\">\n",
       "      <th></th>\n",
       "      <th>tweet</th>\n",
       "      <th>length</th>\n",
       "      <th>label</th>\n",
       "    </tr>\n",
       "  </thead>\n",
       "  <tbody>\n",
       "    <tr>\n",
       "      <th>0</th>\n",
       "      <td>Pakistani Terrorist Intelligence ISI and MI re...</td>\n",
       "      <td>245.0</td>\n",
       "      <td>1.0</td>\n",
       "    </tr>\n",
       "    <tr>\n",
       "      <th>1</th>\n",
       "      <td>Pakistani Terrorist Intelligence ISI and MI re...</td>\n",
       "      <td>245.0</td>\n",
       "      <td>1.0</td>\n",
       "    </tr>\n",
       "    <tr>\n",
       "      <th>2</th>\n",
       "      <td>Pakistani Terrorist Intelligence ISI and MI re...</td>\n",
       "      <td>264.0</td>\n",
       "      <td>1.0</td>\n",
       "    </tr>\n",
       "    <tr>\n",
       "      <th>3</th>\n",
       "      <td>Pakistani Terrorist Intelligence ISI and MI re...</td>\n",
       "      <td>239.0</td>\n",
       "      <td>1.0</td>\n",
       "    </tr>\n",
       "    <tr>\n",
       "      <th>4</th>\n",
       "      <td>Pakistani Terrorist Intelligence ISI and MI re...</td>\n",
       "      <td>242.0</td>\n",
       "      <td>1.0</td>\n",
       "    </tr>\n",
       "    <tr>\n",
       "      <th>...</th>\n",
       "      <td>...</td>\n",
       "      <td>...</td>\n",
       "      <td>...</td>\n",
       "    </tr>\n",
       "    <tr>\n",
       "      <th>1635</th>\n",
       "      <td>In sha Allah wo difah i Pakistan k liayay hom...</td>\n",
       "      <td>70.0</td>\n",
       "      <td>0.0</td>\n",
       "    </tr>\n",
       "    <tr>\n",
       "      <th>1636</th>\n",
       "      <td>Imran khan ne sabit kar deya hsi k wo allam a...</td>\n",
       "      <td>169.0</td>\n",
       "      <td>0.0</td>\n",
       "    </tr>\n",
       "    <tr>\n",
       "      <th>1637</th>\n",
       "      <td>Ameen</td>\n",
       "      <td>6.0</td>\n",
       "      <td>0.0</td>\n",
       "    </tr>\n",
       "    <tr>\n",
       "      <th>1638</th>\n",
       "      <td>You are face of GilgitBaltistan  You are pride...</td>\n",
       "      <td>59.0</td>\n",
       "      <td>0.0</td>\n",
       "    </tr>\n",
       "    <tr>\n",
       "      <th>1639</th>\n",
       "      <td>Aap b kin ko keh rahay hein ye opn jang ha au...</td>\n",
       "      <td>173.0</td>\n",
       "      <td>0.0</td>\n",
       "    </tr>\n",
       "  </tbody>\n",
       "</table>\n",
       "<p>1640 rows × 3 columns</p>\n",
       "</div>"
      ],
      "text/plain": [
       "                                                  tweet  length  label\n",
       "0     Pakistani Terrorist Intelligence ISI and MI re...   245.0    1.0\n",
       "1     Pakistani Terrorist Intelligence ISI and MI re...   245.0    1.0\n",
       "2     Pakistani Terrorist Intelligence ISI and MI re...   264.0    1.0\n",
       "3     Pakistani Terrorist Intelligence ISI and MI re...   239.0    1.0\n",
       "4     Pakistani Terrorist Intelligence ISI and MI re...   242.0    1.0\n",
       "...                                                 ...     ...    ...\n",
       "1635   In sha Allah wo difah i Pakistan k liayay hom...    70.0    0.0\n",
       "1636   Imran khan ne sabit kar deya hsi k wo allam a...   169.0    0.0\n",
       "1637                                              Ameen     6.0    0.0\n",
       "1638  You are face of GilgitBaltistan  You are pride...    59.0    0.0\n",
       "1639   Aap b kin ko keh rahay hein ye opn jang ha au...   173.0    0.0\n",
       "\n",
       "[1640 rows x 3 columns]"
      ]
     },
     "execution_count": 3,
     "metadata": {},
     "output_type": "execute_result"
    }
   ],
   "source": [
    "data\n",
    "# the tweets which are labeled as 1 are anti_state tweets\n",
    "# 0 represents the tweets that are not anti state"
   ]
  },
  {
   "cell_type": "code",
   "execution_count": 4,
   "id": "61b733ee",
   "metadata": {
    "pycharm": {
     "name": "#%%\n"
    }
   },
   "outputs": [
    {
     "name": "stdout",
     "output_type": "stream",
     "text": [
      "<class 'pandas.core.frame.DataFrame'>\n",
      "RangeIndex: 1640 entries, 0 to 1639\n",
      "Data columns (total 3 columns):\n",
      " #   Column  Non-Null Count  Dtype  \n",
      "---  ------  --------------  -----  \n",
      " 0   tweet   1639 non-null   object \n",
      " 1   length  1633 non-null   float64\n",
      " 2   label   1617 non-null   float64\n",
      "dtypes: float64(2), object(1)\n",
      "memory usage: 38.6+ KB\n"
     ]
    }
   ],
   "source": [
    "data.info()"
   ]
  },
  {
   "cell_type": "markdown",
   "id": "8f9c8885",
   "metadata": {
    "pycharm": {
     "name": "#%% md\n"
    }
   },
   "source": [
    "# checking for missing values"
   ]
  },
  {
   "cell_type": "code",
   "execution_count": 5,
   "id": "c8f98fec",
   "metadata": {
    "pycharm": {
     "name": "#%%\n"
    }
   },
   "outputs": [
    {
     "data": {
      "text/plain": [
       "tweet  length  label\n",
       "False  False   False    1615\n",
       "               True       18\n",
       "       True    True        4\n",
       "               False       2\n",
       "True   True    True        1\n",
       "dtype: int64"
      ]
     },
     "execution_count": 5,
     "metadata": {},
     "output_type": "execute_result"
    }
   ],
   "source": [
    "data.isna().value_counts()"
   ]
  },
  {
   "cell_type": "markdown",
   "id": "148178e0",
   "metadata": {
    "pycharm": {
     "name": "#%% md\n"
    }
   },
   "source": [
    "# dropping missing values"
   ]
  },
  {
   "cell_type": "code",
   "execution_count": 6,
   "id": "e5157187",
   "metadata": {
    "pycharm": {
     "name": "#%%\n"
    }
   },
   "outputs": [],
   "source": [
    "data=data.dropna()"
   ]
  },
  {
   "cell_type": "code",
   "execution_count": 7,
   "id": "00b8e9a8",
   "metadata": {
    "pycharm": {
     "name": "#%%\n"
    }
   },
   "outputs": [
    {
     "data": {
      "text/plain": [
       "tweet  length  label\n",
       "False  False   False    1615\n",
       "dtype: int64"
      ]
     },
     "execution_count": 7,
     "metadata": {},
     "output_type": "execute_result"
    }
   ],
   "source": [
    "data.isna().value_counts()"
   ]
  },
  {
   "cell_type": "markdown",
   "id": "4dcfb477",
   "metadata": {
    "pycharm": {
     "name": "#%% md\n"
    }
   },
   "source": [
    "# visualizing missng values"
   ]
  },
  {
   "cell_type": "code",
   "execution_count": 8,
   "id": "60a207b3",
   "metadata": {
    "pycharm": {
     "name": "#%%\n"
    }
   },
   "outputs": [
    {
     "data": {
      "text/plain": [
       "<AxesSubplot:>"
      ]
     },
     "execution_count": 8,
     "metadata": {},
     "output_type": "execute_result"
    },
    {
     "data": {
      "image/png": "[encoded data removed]",
      "text/plain": [
       "<Figure size 432x288 with 2 Axes>"
      ]
     },
     "metadata": {
      "needs_background": "light"
     },
     "output_type": "display_data"
    }
   ],
   "source": [
    "import seaborn as sns\n",
    "sns.heatmap(data.isna())\n",
    "# as we can see there's no missing values in our dataset"
   ]
  },
  {
   "cell_type": "markdown",
   "id": "6eed1ead",
   "metadata": {
    "pycharm": {
     "name": "#%% md\n"
    }
   },
   "source": [
    "# checking the number of anti state and not anti state tweets"
   ]
  },
  {
   "cell_type": "code",
   "execution_count": 9,
   "id": "495a727a",
   "metadata": {
    "pycharm": {
     "name": "#%%\n"
    }
   },
   "outputs": [
    {
     "name": "stdout",
     "output_type": "stream",
     "text": [
      "0.0    990\n",
      "1.0    625\n",
      "Name: label, dtype: int64\n"
     ]
    },
    {
     "name": "stderr",
     "output_type": "stream",
     "text": [
      "E:\\ANACONDA_INSTALLED\\lib\\site-packages\\seaborn\\_decorators.py:36: FutureWarning: Pass the following variable as a keyword arg: x. From version 0.12, the only valid positional argument will be `data`, and passing other arguments without an explicit keyword will result in an error or misinterpretation.\n",
      "  warnings.warn(\n"
     ]
    },
    {
     "data": {
      "text/plain": [
       "<AxesSubplot:xlabel='label', ylabel='count'>"
      ]
     },
     "execution_count": 9,
     "metadata": {},
     "output_type": "execute_result"
    },
    {
     "data": {
      "image/png": "[encoded data removed]",
      "text/plain": [
       "<Figure size 432x288 with 1 Axes>"
      ]
     },
     "metadata": {
      "needs_background": "light"
     },
     "output_type": "display_data"
    }
   ],
   "source": [
    "print(data['label'].value_counts())\n",
    "sns.countplot(data['label'])"
   ]
  },
  {
   "cell_type": "markdown",
   "id": "ff22c1a1",
   "metadata": {
    "pycharm": {
     "name": "#%% md\n"
    }
   },
   "source": [
    "\n",
    "# dropping duplicate tweets if there's any"
   ]
  },
  {
   "cell_type": "code",
   "execution_count": 10,
   "id": "b2b77795",
   "metadata": {
    "pycharm": {
     "name": "#%%\n"
    }
   },
   "outputs": [],
   "source": [
    "data=data.drop_duplicates()"
   ]
  },
  {
   "cell_type": "code",
   "execution_count": 11,
   "id": "10d0a2c4",
   "metadata": {
    "pycharm": {
     "name": "#%%\n"
    }
   },
   "outputs": [
    {
     "data": {
      "text/html": [
       "<div>\n",
       "<style scoped>\n",
       "    .dataframe tbody tr th:only-of-type {\n",
       "        vertical-align: middle;\n",
       "    }\n",
       "\n",
       "    .dataframe tbody tr th {\n",
       "        vertical-align: top;\n",
       "    }\n",
       "\n",
       "    .dataframe thead th {\n",
       "        text-align: right;\n",
       "    }\n",
       "</style>\n",
       "<table border=\"1\" class=\"dataframe\">\n",
       "  <thead>\n",
       "    <tr style=\"text-align: right;\">\n",
       "      <th></th>\n",
       "      <th>tweet</th>\n",
       "      <th>length</th>\n",
       "      <th>label</th>\n",
       "    </tr>\n",
       "  </thead>\n",
       "  <tbody>\n",
       "    <tr>\n",
       "      <th>0</th>\n",
       "      <td>Pakistani Terrorist Intelligence ISI and MI re...</td>\n",
       "      <td>245.0</td>\n",
       "      <td>1.0</td>\n",
       "    </tr>\n",
       "    <tr>\n",
       "      <th>1</th>\n",
       "      <td>Pakistani Terrorist Intelligence ISI and MI re...</td>\n",
       "      <td>245.0</td>\n",
       "      <td>1.0</td>\n",
       "    </tr>\n",
       "    <tr>\n",
       "      <th>2</th>\n",
       "      <td>Pakistani Terrorist Intelligence ISI and MI re...</td>\n",
       "      <td>264.0</td>\n",
       "      <td>1.0</td>\n",
       "    </tr>\n",
       "    <tr>\n",
       "      <th>3</th>\n",
       "      <td>Pakistani Terrorist Intelligence ISI and MI re...</td>\n",
       "      <td>239.0</td>\n",
       "      <td>1.0</td>\n",
       "    </tr>\n",
       "    <tr>\n",
       "      <th>4</th>\n",
       "      <td>Pakistani Terrorist Intelligence ISI and MI re...</td>\n",
       "      <td>242.0</td>\n",
       "      <td>1.0</td>\n",
       "    </tr>\n",
       "    <tr>\n",
       "      <th>...</th>\n",
       "      <td>...</td>\n",
       "      <td>...</td>\n",
       "      <td>...</td>\n",
       "    </tr>\n",
       "    <tr>\n",
       "      <th>1635</th>\n",
       "      <td>In sha Allah wo difah i Pakistan k liayay hom...</td>\n",
       "      <td>70.0</td>\n",
       "      <td>0.0</td>\n",
       "    </tr>\n",
       "    <tr>\n",
       "      <th>1636</th>\n",
       "      <td>Imran khan ne sabit kar deya hsi k wo allam a...</td>\n",
       "      <td>169.0</td>\n",
       "      <td>0.0</td>\n",
       "    </tr>\n",
       "    <tr>\n",
       "      <th>1637</th>\n",
       "      <td>Ameen</td>\n",
       "      <td>6.0</td>\n",
       "      <td>0.0</td>\n",
       "    </tr>\n",
       "    <tr>\n",
       "      <th>1638</th>\n",
       "      <td>You are face of GilgitBaltistan  You are pride...</td>\n",
       "      <td>59.0</td>\n",
       "      <td>0.0</td>\n",
       "    </tr>\n",
       "    <tr>\n",
       "      <th>1639</th>\n",
       "      <td>Aap b kin ko keh rahay hein ye opn jang ha au...</td>\n",
       "      <td>173.0</td>\n",
       "      <td>0.0</td>\n",
       "    </tr>\n",
       "  </tbody>\n",
       "</table>\n",
       "<p>1323 rows × 3 columns</p>\n",
       "</div>"
      ],
      "text/plain": [
       "                                                  tweet  length  label\n",
       "0     Pakistani Terrorist Intelligence ISI and MI re...   245.0    1.0\n",
       "1     Pakistani Terrorist Intelligence ISI and MI re...   245.0    1.0\n",
       "2     Pakistani Terrorist Intelligence ISI and MI re...   264.0    1.0\n",
       "3     Pakistani Terrorist Intelligence ISI and MI re...   239.0    1.0\n",
       "4     Pakistani Terrorist Intelligence ISI and MI re...   242.0    1.0\n",
       "...                                                 ...     ...    ...\n",
       "1635   In sha Allah wo difah i Pakistan k liayay hom...    70.0    0.0\n",
       "1636   Imran khan ne sabit kar deya hsi k wo allam a...   169.0    0.0\n",
       "1637                                              Ameen     6.0    0.0\n",
       "1638  You are face of GilgitBaltistan  You are pride...    59.0    0.0\n",
       "1639   Aap b kin ko keh rahay hein ye opn jang ha au...   173.0    0.0\n",
       "\n",
       "[1323 rows x 3 columns]"
      ]
     },
     "execution_count": 11,
     "metadata": {},
     "output_type": "execute_result"
    }
   ],
   "source": [
    "data"
   ]
  },
  {
   "cell_type": "markdown",
   "id": "dc5b66ca",
   "metadata": {
    "pycharm": {
     "name": "#%% md\n"
    }
   },
   "source": [
    "# checking the longest and shortes tweet"
   ]
  },
  {
   "cell_type": "code",
   "execution_count": 12,
   "id": "211e36c1",
   "metadata": {
    "pycharm": {
     "name": "#%%\n"
    }
   },
   "outputs": [
    {
     "data": {
      "text/html": [
       "<div>\n",
       "<style scoped>\n",
       "    .dataframe tbody tr th:only-of-type {\n",
       "        vertical-align: middle;\n",
       "    }\n",
       "\n",
       "    .dataframe tbody tr th {\n",
       "        vertical-align: top;\n",
       "    }\n",
       "\n",
       "    .dataframe thead th {\n",
       "        text-align: right;\n",
       "    }\n",
       "</style>\n",
       "<table border=\"1\" class=\"dataframe\">\n",
       "  <thead>\n",
       "    <tr style=\"text-align: right;\">\n",
       "      <th></th>\n",
       "      <th>tweet</th>\n",
       "      <th>length</th>\n",
       "      <th>label</th>\n",
       "    </tr>\n",
       "  </thead>\n",
       "  <tbody>\n",
       "    <tr>\n",
       "      <th>1097</th>\n",
       "      <td>which is the best bank for saving accounts in ...</td>\n",
       "      <td>78.0</td>\n",
       "      <td>0.0</td>\n",
       "    </tr>\n",
       "  </tbody>\n",
       "</table>\n",
       "</div>"
      ],
      "text/plain": [
       "                                                  tweet  length  label\n",
       "1097  which is the best bank for saving accounts in ...    78.0    0.0"
      ]
     },
     "execution_count": 12,
     "metadata": {},
     "output_type": "execute_result"
    }
   ],
   "source": [
    "data[data['tweet'] == data['tweet'].max()]\n"
   ]
  },
  {
   "cell_type": "code",
   "execution_count": 13,
   "id": "c1eb9bbf",
   "metadata": {
    "pycharm": {
     "name": "#%%\n"
    }
   },
   "outputs": [
    {
     "data": {
      "text/html": [
       "<div>\n",
       "<style scoped>\n",
       "    .dataframe tbody tr th:only-of-type {\n",
       "        vertical-align: middle;\n",
       "    }\n",
       "\n",
       "    .dataframe tbody tr th {\n",
       "        vertical-align: top;\n",
       "    }\n",
       "\n",
       "    .dataframe thead th {\n",
       "        text-align: right;\n",
       "    }\n",
       "</style>\n",
       "<table border=\"1\" class=\"dataframe\">\n",
       "  <thead>\n",
       "    <tr style=\"text-align: right;\">\n",
       "      <th></th>\n",
       "      <th>tweet</th>\n",
       "      <th>length</th>\n",
       "      <th>label</th>\n",
       "    </tr>\n",
       "  </thead>\n",
       "  <tbody>\n",
       "    <tr>\n",
       "      <th>352</th>\n",
       "      <td>Very True...</td>\n",
       "      <td>321.0</td>\n",
       "      <td>1.0</td>\n",
       "    </tr>\n",
       "  </tbody>\n",
       "</table>\n",
       "</div>"
      ],
      "text/plain": [
       "                                                 tweet  length  label\n",
       "352                                       Very True...   321.0    1.0"
      ]
     },
     "execution_count": 13,
     "metadata": {},
     "output_type": "execute_result"
    }
   ],
   "source": [
    "data[data['tweet'] == data['tweet'].min()]"
   ]
  },
  {
   "cell_type": "markdown",
   "id": "849fc40d",
   "metadata": {
    "pycharm": {
     "name": "#%% md\n"
    }
   },
   "source": [
    "\n",
    "# visualizing the length of tweets"
   ]
  },
  {
   "cell_type": "code",
   "execution_count": 14,
   "id": "18da37b0",
   "metadata": {
    "pycharm": {
     "name": "#%%\n"
    }
   },
   "outputs": [
    {
     "data": {
      "text/plain": [
       "<AxesSubplot:>"
      ]
     },
     "execution_count": 14,
     "metadata": {},
     "output_type": "execute_result"
    },
    {
     "data": {
      "image/png": "[encoded data removed]",
      "text/plain": [
       "<Figure size 432x288 with 1 Axes>"
      ]
     },
     "metadata": {
      "needs_background": "light"
     },
     "output_type": "display_data"
    }
   ],
   "source": [
    "data['length'].hist(bins=100)"
   ]
  },
  {
   "cell_type": "markdown",
   "id": "c6dc4cdf",
   "metadata": {
    "pycharm": {
     "name": "#%% md\n"
    }
   },
   "source": [
    "# removging spaces from begining of the tweet"
   ]
  },
  {
   "cell_type": "code",
   "execution_count": 15,
   "id": "ddb785bf",
   "metadata": {
    "pycharm": {
     "name": "#%%\n"
    }
   },
   "outputs": [
    {
     "data": {
      "text/plain": [
       "0       Pakistani Terrorist Intelligence ISI and MI re...\n",
       "1       Pakistani Terrorist Intelligence ISI and MI re...\n",
       "2       Pakistani Terrorist Intelligence ISI and MI re...\n",
       "3       Pakistani Terrorist Intelligence ISI and MI re...\n",
       "4       Pakistani Terrorist Intelligence ISI and MI re...\n",
       "                              ...                        \n",
       "1635    In sha Allah wo difah i Pakistan k liayay home...\n",
       "1636    Imran khan ne sabit kar deya hsi k wo allam a ...\n",
       "1637                                                Ameen\n",
       "1638    You are face of GilgitBaltistan  You are pride...\n",
       "1639    Aap b kin ko keh rahay hein ye opn jang ha aur...\n",
       "Name: tweet, Length: 1323, dtype: object"
      ]
     },
     "execution_count": 15,
     "metadata": {},
     "output_type": "execute_result"
    }
   ],
   "source": [
    "data['tweet'].apply(lambda x:x.strip())"
   ]
  },
  {
   "cell_type": "markdown",
   "id": "e92ff6b7",
   "metadata": {
    "pycharm": {
     "name": "#%% md\n"
    }
   },
   "source": [
    "# removing digits and punctuations if there's any"
   ]
  },
  {
   "cell_type": "code",
   "execution_count": 16,
   "id": "4c7f7c47",
   "metadata": {
    "pycharm": {
     "name": "#%%\n"
    }
   },
   "outputs": [],
   "source": [
    "def removeDigits(tweet):\n",
    "    import string\n",
    "    tweet=tweet.strip()\n",
    "    tweet=[t for t in tweet if t not in string.digits]\n",
    "    tweet=''.join(tweet)\n",
    "    tweet=[t for t in tweet if t not in string.punctuation]\n",
    "    return ''.join(tweet)\n"
   ]
  },
  {
   "cell_type": "code",
   "execution_count": 17,
   "id": "750cb9a3",
   "metadata": {
    "pycharm": {
     "name": "#%%\n"
    }
   },
   "outputs": [],
   "source": [
    "data['tweet']=data['tweet'].apply(removeDigits)"
   ]
  },
  {
   "cell_type": "markdown",
   "id": "d6076f0e",
   "metadata": {
    "pycharm": {
     "name": "#%% md\n"
    }
   },
   "source": [
    "\n",
    "# dividing the data into X and Y to train the model"
   ]
  },
  {
   "cell_type": "code",
   "execution_count": 18,
   "id": "ea848f61",
   "metadata": {
    "pycharm": {
     "name": "#%%\n"
    }
   },
   "outputs": [],
   "source": [
    "X=data['tweet']"
   ]
  },
  {
   "cell_type": "code",
   "execution_count": 19,
   "id": "1c65f33c",
   "metadata": {
    "pycharm": {
     "name": "#%%\n"
    }
   },
   "outputs": [],
   "source": [
    "trainY=data['label']"
   ]
  },
  {
   "cell_type": "markdown",
   "id": "b71d9ec8",
   "metadata": {
    "pycharm": {
     "name": "#%% md\n"
    }
   },
   "source": [
    "# transforming the tweets into vectors"
   ]
  },
  {
   "cell_type": "code",
   "execution_count": 20,
   "id": "0c7b7e95",
   "metadata": {
    "pycharm": {
     "name": "#%%\n"
    }
   },
   "outputs": [],
   "source": [
    "from sklearn.feature_extraction.text import CountVectorizer"
   ]
  },
  {
   "cell_type": "code",
   "execution_count": 21,
   "id": "4a5bddef",
   "metadata": {
    "pycharm": {
     "name": "#%%\n"
    }
   },
   "outputs": [],
   "source": [
    "vectorizer=CountVectorizer()"
   ]
  },
  {
   "cell_type": "code",
   "execution_count": 22,
   "id": "7ac1b8b7",
   "metadata": {
    "pycharm": {
     "name": "#%%\n"
    }
   },
   "outputs": [],
   "source": [
    "trainX=vectorizer.fit_transform(X)"
   ]
  },
  {
   "cell_type": "markdown",
   "id": "547096d7",
   "metadata": {
    "pycharm": {
     "name": "#%% md\n"
    }
   },
   "source": [
    "# checking the feature names"
   ]
  },
  {
   "cell_type": "code",
   "execution_count": 23,
   "id": "5803e454",
   "metadata": {
    "pycharm": {
     "name": "#%%\n"
    }
   },
   "outputs": [
    {
     "data": {
      "text/plain": [
       "['aa',\n",
       " 'aaate',\n",
       " 'aadhaar',\n",
       " 'aafia',\n",
       " 'aag',\n",
       " 'aaga',\n",
       " 'aai',\n",
       " 'aajayegi',\n",
       " 'aakar',\n",
       " 'aake',\n",
       " 'aakhri',\n",
       " 'aakr',\n",
       " 'aam',\n",
       " 'aap',\n",
       " 'aapne',\n",
       " 'aaropi',\n",
       " 'aata',\n",
       " 'aate',\n",
       " 'aaya',\n",
       " 'aaye',\n",
       " 'aayi',\n",
       " 'ab',\n",
       " 'abad',\n",
       " 'abandoned',\n",
       " 'abasin',\n",
       " 'abd',\n",
       " 'abducted',\n",
       " 'abducting',\n",
       " 'abductor',\n",
       " 'abdul',\n",
       " 'abdullah',\n",
       " 'abdullahs',\n",
       " 'abe',\n",
       " 'abhi',\n",
       " 'abhinandan',\n",
       " 'abhinandanwion',\n",
       " 'abi',\n",
       " 'abiding',\n",
       " 'ability',\n",
       " 'ablaze',\n",
       " 'able',\n",
       " 'aboriginal',\n",
       " 'about',\n",
       " 'above',\n",
       " 'abparaa',\n",
       " 'abro',\n",
       " 'abroad',\n",
       " 'absconding',\n",
       " 'absence',\n",
       " 'absolutely',\n",
       " 'abt',\n",
       " 'abu',\n",
       " 'abujakaduna',\n",
       " 'abuse',\n",
       " 'abused',\n",
       " 'abuses',\n",
       " 'abusing',\n",
       " 'aby',\n",
       " 'ac',\n",
       " 'accelerated',\n",
       " 'accept',\n",
       " 'accepted',\n",
       " 'accepting',\n",
       " 'accetenly',\n",
       " 'accha',\n",
       " 'accident',\n",
       " 'acclaimed',\n",
       " 'accompanied',\n",
       " 'accompany',\n",
       " 'according',\n",
       " 'accords',\n",
       " 'account',\n",
       " 'accountability',\n",
       " 'accountable',\n",
       " 'accounts',\n",
       " 'accuse',\n",
       " 'accused',\n",
       " 'accuses',\n",
       " 'acha',\n",
       " 'achakzai',\n",
       " 'achanak',\n",
       " 'ache',\n",
       " 'acheivement',\n",
       " 'achi',\n",
       " 'achieve',\n",
       " 'achuka',\n",
       " 'ackan',\n",
       " 'acknowledge',\n",
       " 'acknowledging',\n",
       " 'acquisition',\n",
       " 'across',\n",
       " 'act',\n",
       " 'acting',\n",
       " 'action',\n",
       " 'actionable',\n",
       " 'actions',\n",
       " 'active',\n",
       " 'activist',\n",
       " 'activists',\n",
       " 'activities',\n",
       " 'activitieshow',\n",
       " 'activity',\n",
       " 'actors',\n",
       " 'actress',\n",
       " 'acts',\n",
       " 'actual',\n",
       " 'actually',\n",
       " 'acutely',\n",
       " 'ada',\n",
       " 'adalat',\n",
       " 'adamant',\n",
       " 'adda',\n",
       " 'addictivespecially',\n",
       " 'adha',\n",
       " 'adliya',\n",
       " 'administration',\n",
       " 'admishetaan',\n",
       " 'admits',\n",
       " 'admitting',\n",
       " 'advice',\n",
       " 'advisors',\n",
       " 'advocate',\n",
       " 'aee',\n",
       " 'aesi',\n",
       " 'affairs',\n",
       " 'afg',\n",
       " 'afgan',\n",
       " 'afghan',\n",
       " 'afghani',\n",
       " 'afghanistan',\n",
       " 'afghanistanisi',\n",
       " 'afghanistans',\n",
       " 'afghanpak',\n",
       " 'afghans',\n",
       " 'afghansis',\n",
       " 'afghanswho',\n",
       " 'afghnaistan',\n",
       " 'afgs',\n",
       " 'afpak',\n",
       " 'afraid',\n",
       " 'afrasiab',\n",
       " 'africa',\n",
       " 'afsoos',\n",
       " 'afsos',\n",
       " 'after',\n",
       " 'again',\n",
       " 'agains',\n",
       " 'against',\n",
       " 'agar',\n",
       " 'agarwal',\n",
       " 'agay',\n",
       " 'agayi',\n",
       " 'age',\n",
       " 'agencies',\n",
       " 'agency',\n",
       " 'agenda',\n",
       " 'agendas',\n",
       " 'agent',\n",
       " 'agentindia',\n",
       " 'agents',\n",
       " 'ageold',\n",
       " 'ager',\n",
       " 'ages',\n",
       " 'ageya',\n",
       " 'aggression',\n",
       " 'aggressions',\n",
       " 'aggressively',\n",
       " 'agnst',\n",
       " 'ago',\n",
       " 'agr',\n",
       " 'agreeing',\n",
       " 'agreement',\n",
       " 'agrees',\n",
       " 'agst',\n",
       " 'agyi',\n",
       " 'ahl',\n",
       " 'ahmad',\n",
       " 'ahmed',\n",
       " 'ahs',\n",
       " 'ahsaanfaramosh',\n",
       " 'ai',\n",
       " 'aid',\n",
       " 'aiding',\n",
       " 'aik',\n",
       " 'aimal',\n",
       " 'aimed',\n",
       " 'aiml',\n",
       " 'aims',\n",
       " 'ain',\n",
       " 'air',\n",
       " 'airbase',\n",
       " 'aircraft',\n",
       " 'airforce',\n",
       " 'airport',\n",
       " 'airports',\n",
       " 'airspace',\n",
       " 'airstrike',\n",
       " 'airstrikes',\n",
       " 'aisa',\n",
       " 'aise',\n",
       " 'aisi',\n",
       " 'aisy',\n",
       " 'aj',\n",
       " 'ajya',\n",
       " 'ak',\n",
       " 'aka',\n",
       " 'akaily',\n",
       " 'akal',\n",
       " 'akar',\n",
       " 'akarrr',\n",
       " 'akbar',\n",
       " 'akhand',\n",
       " 'akhri',\n",
       " 'akinci',\n",
       " 'aksar',\n",
       " 'al',\n",
       " 'alaklarn',\n",
       " 'alan',\n",
       " 'alarm',\n",
       " 'alass',\n",
       " 'alert',\n",
       " 'alfaz',\n",
       " 'algeria',\n",
       " 'algunas',\n",
       " 'algunos',\n",
       " 'alhamdulillah',\n",
       " 'ali',\n",
       " 'alien',\n",
       " 'alienated',\n",
       " 'alive',\n",
       " 'all',\n",
       " 'allah',\n",
       " 'allam',\n",
       " 'allama',\n",
       " 'allbut',\n",
       " 'alleged',\n",
       " 'allegedly',\n",
       " 'allegiance',\n",
       " 'alleviate',\n",
       " 'allhumdulillah',\n",
       " 'alliance',\n",
       " 'allies',\n",
       " 'allow',\n",
       " 'allowed',\n",
       " 'ally',\n",
       " 'alm',\n",
       " 'almak',\n",
       " 'almighty',\n",
       " 'almost',\n",
       " 'almueddin',\n",
       " 'alnagrib',\n",
       " 'alnahyan',\n",
       " 'alone',\n",
       " 'along',\n",
       " 'alot',\n",
       " 'alqaeda',\n",
       " 'alqaida',\n",
       " 'already',\n",
       " 'alshati',\n",
       " 'alshbab',\n",
       " 'also',\n",
       " 'alternative',\n",
       " 'although',\n",
       " 'altnda',\n",
       " 'altqqaiya',\n",
       " 'always',\n",
       " 'am',\n",
       " 'amal',\n",
       " 'amarica',\n",
       " 'amateurs',\n",
       " 'amazing',\n",
       " 'ambassador',\n",
       " 'ambulances',\n",
       " 'ambulatory',\n",
       " 'ambush',\n",
       " 'ame',\n",
       " 'ameen',\n",
       " 'ameer',\n",
       " 'america',\n",
       " 'americaisrael',\n",
       " 'american',\n",
       " 'americans',\n",
       " 'amid',\n",
       " 'amigos',\n",
       " 'amin',\n",
       " 'amir',\n",
       " 'ammo',\n",
       " 'ammunition',\n",
       " 'amnesty',\n",
       " 'amok',\n",
       " 'among',\n",
       " 'amp',\n",
       " 'ampdemanding',\n",
       " 'ampmuslims',\n",
       " 'amreca',\n",
       " 'amu',\n",
       " 'an',\n",
       " 'ana',\n",
       " 'analyse',\n",
       " 'anarchy',\n",
       " 'and',\n",
       " 'andar',\n",
       " 'andaza',\n",
       " 'andhy',\n",
       " 'andy',\n",
       " 'angana',\n",
       " 'anger',\n",
       " 'angle',\n",
       " 'angor',\n",
       " 'angry',\n",
       " 'ani',\n",
       " 'animal',\n",
       " 'animals',\n",
       " 'anjam',\n",
       " 'ankar',\n",
       " 'ankhain',\n",
       " 'anlalyor',\n",
       " 'annexation',\n",
       " 'anniversary',\n",
       " 'annonce',\n",
       " 'announce',\n",
       " 'announcement',\n",
       " 'announces',\n",
       " 'another',\n",
       " 'anothr',\n",
       " 'ansarul',\n",
       " 'answer',\n",
       " 'ant',\n",
       " 'anthem',\n",
       " 'anti',\n",
       " 'antiamericans',\n",
       " 'antiarmy',\n",
       " 'antifa',\n",
       " 'antiindia',\n",
       " 'antiislam',\n",
       " 'antinational',\n",
       " 'antinationalist',\n",
       " 'antipakistan',\n",
       " 'any',\n",
       " 'anyauspiciousoccasions',\n",
       " 'anybody',\n",
       " 'anymore',\n",
       " 'anyone',\n",
       " 'anything',\n",
       " 'anyway',\n",
       " 'anywhere',\n",
       " 'ap',\n",
       " 'apart',\n",
       " 'apathetically',\n",
       " 'aperu',\n",
       " 'apko',\n",
       " 'apna',\n",
       " 'apnay',\n",
       " 'apne',\n",
       " 'apney',\n",
       " 'apni',\n",
       " 'apny',\n",
       " 'apologies',\n",
       " 'apologists',\n",
       " 'apoyarme',\n",
       " 'app',\n",
       " 'appalling',\n",
       " 'apparently',\n",
       " 'appear',\n",
       " 'appears',\n",
       " 'appease',\n",
       " 'appka',\n",
       " 'application',\n",
       " 'apply',\n",
       " 'appoint',\n",
       " 'apprehensions',\n",
       " 'approval',\n",
       " 'approx',\n",
       " 'april',\n",
       " 'aq',\n",
       " 'aqsa',\n",
       " 'arab',\n",
       " 'arabia',\n",
       " 'arabian',\n",
       " 'arabic',\n",
       " 'arabs',\n",
       " 'arap',\n",
       " 'are',\n",
       " 'area',\n",
       " 'areas',\n",
       " 'arent',\n",
       " 'argentina',\n",
       " 'argh',\n",
       " 'argue',\n",
       " 'aris',\n",
       " 'armatures',\n",
       " 'armed',\n",
       " 'armenia',\n",
       " 'armenians',\n",
       " 'armies',\n",
       " 'arming',\n",
       " 'armour',\n",
       " 'arms',\n",
       " 'army',\n",
       " 'armyampindias',\n",
       " 'armyanybody',\n",
       " 'armyisi',\n",
       " 'armyjo',\n",
       " 'armymen',\n",
       " 'armyquestion',\n",
       " 'armys',\n",
       " 'armyshame',\n",
       " 'around',\n",
       " 'arranged',\n",
       " 'arrest',\n",
       " 'arrested',\n",
       " 'arrestedhe',\n",
       " 'arresting',\n",
       " 'arrests',\n",
       " 'arrived',\n",
       " 'arrives',\n",
       " 'arrogantly',\n",
       " 'article',\n",
       " 'articulated',\n",
       " 'artist',\n",
       " 'arw',\n",
       " 'ary',\n",
       " 'as',\n",
       " 'asa',\n",
       " 'asad',\n",
       " 'asal',\n",
       " 'asap',\n",
       " 'asesinada',\n",
       " 'ashamed',\n",
       " 'ashiq',\n",
       " 'ashole',\n",
       " 'ashraf',\n",
       " 'asia',\n",
       " 'asif',\n",
       " 'ask',\n",
       " 'asked',\n",
       " 'asking',\n",
       " 'asli',\n",
       " 'asma',\n",
       " 'aspects',\n",
       " 'ass',\n",
       " 'assalamoalaikumwrt',\n",
       " 'assalamoallaikum',\n",
       " 'assam',\n",
       " 'assasin',\n",
       " 'assassinated',\n",
       " 'assembly',\n",
       " 'assertain',\n",
       " 'assessment',\n",
       " 'assist',\n",
       " 'assistance',\n",
       " 'assistant',\n",
       " 'associated',\n",
       " 'associating',\n",
       " 'associations',\n",
       " 'assume',\n",
       " 'assuming',\n",
       " 'asylum',\n",
       " 'at',\n",
       " 'ata',\n",
       " 'ataturk',\n",
       " 'atey',\n",
       " 'ather',\n",
       " 'ati',\n",
       " 'atleast',\n",
       " 'atm',\n",
       " 'atrocities',\n",
       " 'ats',\n",
       " 'attack',\n",
       " 'attacked',\n",
       " 'attacking',\n",
       " 'attackis',\n",
       " 'attacklooks',\n",
       " 'attacks',\n",
       " 'attempt',\n",
       " 'attempts',\n",
       " 'attemptsplz',\n",
       " 'attending',\n",
       " 'attention',\n",
       " 'attentioncondemnation',\n",
       " 'attitude',\n",
       " 'attock',\n",
       " 'aty',\n",
       " 'audacity',\n",
       " 'aunque',\n",
       " 'aur',\n",
       " 'aurat',\n",
       " 'auspicious',\n",
       " 'australia',\n",
       " 'authentic',\n",
       " 'authorities',\n",
       " 'autocratic',\n",
       " 'automatically',\n",
       " 'average',\n",
       " 'avoid',\n",
       " 'avoiding',\n",
       " 'awaam',\n",
       " 'awaited',\n",
       " 'awake',\n",
       " 'awam',\n",
       " 'awan',\n",
       " 'awaran',\n",
       " 'aware',\n",
       " 'away',\n",
       " 'awaz',\n",
       " 'axed',\n",
       " 'axeem',\n",
       " 'aya',\n",
       " 'ayad',\n",
       " 'ayal',\n",
       " 'ayan',\n",
       " 'aye',\n",
       " 'ayein',\n",
       " 'ayezaleel',\n",
       " 'ayga',\n",
       " 'ayub',\n",
       " 'azad',\n",
       " 'azadi',\n",
       " 'azeem',\n",
       " 'azeemi',\n",
       " 'azerbaijan',\n",
       " 'azhar',\n",
       " 'ba',\n",
       " 'baad',\n",
       " 'baandh',\n",
       " 'baap',\n",
       " 'baar',\n",
       " 'baat',\n",
       " 'baatein',\n",
       " 'baaz',\n",
       " 'baba',\n",
       " 'babar',\n",
       " 'babas',\n",
       " 'babloo',\n",
       " 'baby',\n",
       " 'bacha',\n",
       " 'bachaane',\n",
       " 'bachanay',\n",
       " 'bachao',\n",
       " 'bache',\n",
       " 'bachen',\n",
       " 'bachey',\n",
       " 'bachoun',\n",
       " 'back',\n",
       " 'backattack',\n",
       " 'backdoor',\n",
       " 'backed',\n",
       " 'backfired',\n",
       " 'backing',\n",
       " 'backkick',\n",
       " 'backs',\n",
       " 'backstabed',\n",
       " 'bad',\n",
       " 'bada',\n",
       " 'badi',\n",
       " 'badly',\n",
       " 'badnam',\n",
       " 'badqismati',\n",
       " 'badsha',\n",
       " 'bag',\n",
       " 'bagawat',\n",
       " 'bagh',\n",
       " 'baghair',\n",
       " 'baghdadiosamatalibanboko',\n",
       " 'bagram',\n",
       " 'bahadur',\n",
       " 'bahadurmore',\n",
       " 'bahane',\n",
       " 'bahar',\n",
       " 'bahas',\n",
       " 'bahni',\n",
       " 'bahnis',\n",
       " 'bail',\n",
       " 'bailout',\n",
       " 'baith',\n",
       " 'baitha',\n",
       " 'bajaur',\n",
       " 'bajay',\n",
       " 'baji',\n",
       " 'bajwa',\n",
       " 'bajwachep',\n",
       " 'bajwas',\n",
       " 'baki',\n",
       " 'bakistan',\n",
       " 'bakre',\n",
       " 'bakri',\n",
       " 'balakot',\n",
       " 'balancer',\n",
       " 'balk',\n",
       " 'ball',\n",
       " 'balls',\n",
       " 'baloach',\n",
       " 'baloch',\n",
       " 'balochafghan',\n",
       " 'balochi',\n",
       " 'balochistan',\n",
       " 'balochistanlong',\n",
       " 'balochistans',\n",
       " 'balochistanthey',\n",
       " 'balocho',\n",
       " 'balochon',\n",
       " 'balochs',\n",
       " 'balochspukhtuns',\n",
       " 'balock',\n",
       " 'baloochistan',\n",
       " 'balouch',\n",
       " 'balouchistan',\n",
       " 'baluch',\n",
       " 'baluchistan',\n",
       " 'ban',\n",
       " 'bana',\n",
       " 'banai',\n",
       " 'banane',\n",
       " 'banaya',\n",
       " 'band',\n",
       " 'bandits',\n",
       " 'bandwagon',\n",
       " 'baney',\n",
       " 'bangalore',\n",
       " 'bangkokthailand',\n",
       " 'bangla',\n",
       " 'bangladesh',\n",
       " 'bangladeshi',\n",
       " 'bangladsh',\n",
       " 'bangles',\n",
       " 'bani',\n",
       " 'banigala',\n",
       " 'bank',\n",
       " 'bankruptcy',\n",
       " 'banne',\n",
       " 'banned',\n",
       " 'banner',\n",
       " 'bannu',\n",
       " 'bante',\n",
       " 'banuk',\n",
       " 'bap',\n",
       " 'baqa',\n",
       " 'baqi',\n",
       " 'bar',\n",
       " 'bara',\n",
       " 'baray',\n",
       " 'barbad',\n",
       " 'barbadi',\n",
       " 'barbarians',\n",
       " 'barbaric',\n",
       " 'barbarism',\n",
       " 'barbarity',\n",
       " 'bardasht',\n",
       " 'barhi',\n",
       " 'barks',\n",
       " 'baro',\n",
       " 'barrage',\n",
       " 'barrel',\n",
       " 'barrier',\n",
       " 'base',\n",
       " 'based',\n",
       " 'bases',\n",
       " 'basheer',\n",
       " 'basic',\n",
       " 'basically',\n",
       " 'basis',\n",
       " 'bass',\n",
       " 'bastards',\n",
       " 'bastd',\n",
       " 'bastrd',\n",
       " 'bat',\n",
       " 'batel',\n",
       " 'baten',\n",
       " 'batne',\n",
       " 'batoo',\n",
       " 'batt',\n",
       " 'battar',\n",
       " 'batti',\n",
       " 'battle',\n",
       " 'battlefield',\n",
       " 'battles',\n",
       " 'bayan',\n",
       " 'bazar',\n",
       " 'bazi',\n",
       " 'bb',\n",
       " 'bc',\n",
       " 'bd',\n",
       " 'bda',\n",
       " 'be',\n",
       " 'bearers',\n",
       " 'beat',\n",
       " 'beaten',\n",
       " 'beatification',\n",
       " 'beating',\n",
       " 'beaurocracy',\n",
       " 'beautiful',\n",
       " 'beauty',\n",
       " 'became',\n",
       " 'because',\n",
       " 'become',\n",
       " 'becomes',\n",
       " 'becoming',\n",
       " 'bedrooms',\n",
       " 'bee',\n",
       " 'been',\n",
       " 'beenmediin',\n",
       " 'befitting',\n",
       " 'before',\n",
       " 'beg',\n",
       " 'begarat',\n",
       " 'begerat',\n",
       " 'beggar',\n",
       " 'beggars',\n",
       " 'begging',\n",
       " 'beghairtu',\n",
       " 'begunah',\n",
       " 'behalf',\n",
       " 'behaving',\n",
       " 'behest',\n",
       " 'behind',\n",
       " 'being',\n",
       " 'beingexploitedfrom',\n",
       " 'beings',\n",
       " 'belgium',\n",
       " 'belice',\n",
       " 'belief',\n",
       " 'believe',\n",
       " 'believes',\n",
       " 'belirtmitik',\n",
       " 'belli',\n",
       " 'bells',\n",
       " 'belonging',\n",
       " 'belongs',\n",
       " 'beloved',\n",
       " 'below',\n",
       " 'benazir',\n",
       " 'benchmark',\n",
       " 'beneficiary',\n",
       " 'benefit',\n",
       " 'benefits',\n",
       " 'bengal',\n",
       " 'bengali',\n",
       " 'bengalis',\n",
       " 'benglis',\n",
       " 'benon',\n",
       " 'bera',\n",
       " 'bereaved',\n",
       " 'beset',\n",
       " 'besharam',\n",
       " 'besharmo',\n",
       " 'besides',\n",
       " 'best',\n",
       " 'bet',\n",
       " 'betawo',\n",
       " 'beth',\n",
       " 'betha',\n",
       " 'bethy',\n",
       " 'betrayed',\n",
       " 'betrayer',\n",
       " 'bets',\n",
       " 'better',\n",
       " 'betterment',\n",
       " 'between',\n",
       " 'bewaqoof',\n",
       " 'beware',\n",
       " 'bewkoof',\n",
       " 'beyond',\n",
       " 'bh',\n",
       " 'bhag',\n",
       " 'bhagory',\n",
       " 'bhagwa',\n",
       " 'bhagwe',\n",
       " 'bhai',\n",
       " 'bhain',\n",
       " 'bhair',\n",
       " 'bhakts',\n",
       " 'bharat',\n",
       " 'bharatiya',\n",
       " 'bhart',\n",
       " 'bhartiya',\n",
       " 'bhati',\n",
       " 'bhe',\n",
       " 'bhej',\n",
       " 'bhejti',\n",
       " 'bhi',\n",
       " 'bhikaari',\n",
       " 'bhikharistan',\n",
       " 'bhipray',\n",
       " 'bhodsrii',\n",
       " 'bhonpu',\n",
       " 'bhooka',\n",
       " 'bhoot',\n",
       " 'bhootnike',\n",
       " 'bhot',\n",
       " 'bht',\n",
       " 'bhut',\n",
       " 'bhutto',\n",
       " 'bi',\n",
       " 'bibi',\n",
       " 'bich',\n",
       " 'biden',\n",
       " 'bids',\n",
       " 'bien',\n",
       " 'big',\n",
       " 'bigaran',\n",
       " 'biggest',\n",
       " 'bigot',\n",
       " 'bikes',\n",
       " 'bilal',\n",
       " 'bilateral',\n",
       " 'bilawal',\n",
       " 'bilkul',\n",
       " 'bilkulpakistan',\n",
       " 'billion',\n",
       " 'billionaapne',\n",
       " 'billions',\n",
       " 'billionsbangladesh',\n",
       " 'bin',\n",
       " 'bir',\n",
       " 'bitha',\n",
       " 'bjp',\n",
       " 'bkaz',\n",
       " 'bkcd',\n",
       " 'bla',\n",
       " 'blab',\n",
       " 'black',\n",
       " 'blacklist',\n",
       " 'blacklisted',\n",
       " 'blacklisting',\n",
       " 'blackmailed',\n",
       " 'blackmailing',\n",
       " 'blakalbhushan',\n",
       " 'blame',\n",
       " 'blamed',\n",
       " 'blaming',\n",
       " 'blas',\n",
       " 'blasphemy',\n",
       " 'blast',\n",
       " 'blasted',\n",
       " 'blasts',\n",
       " 'blatantly',\n",
       " 'blattp',\n",
       " 'bleed',\n",
       " 'bleeding',\n",
       " 'bless',\n",
       " 'blessed',\n",
       " 'blessings',\n",
       " 'blf',\n",
       " 'blind',\n",
       " 'blindly',\n",
       " 'blm',\n",
       " 'bloated',\n",
       " 'blockchain',\n",
       " 'blocked',\n",
       " 'blocks',\n",
       " 'blood',\n",
       " 'bloodshed',\n",
       " 'bloodsoaked',\n",
       " 'bloody',\n",
       " 'blow',\n",
       " 'blowers',\n",
       " 'blown',\n",
       " 'blunder',\n",
       " 'blunders',\n",
       " 'bn',\n",
       " 'bnaaney',\n",
       " 'bnne',\n",
       " 'bno',\n",
       " 'bny',\n",
       " 'boat',\n",
       " 'bodies',\n",
       " 'body',\n",
       " 'bogus',\n",
       " 'bohat',\n",
       " 'bohot',\n",
       " 'boht',\n",
       " 'boil',\n",
       " 'bol',\n",
       " 'bola',\n",
       " 'bolan',\n",
       " 'bold',\n",
       " 'bolege',\n",
       " 'bolne',\n",
       " 'bolo',\n",
       " 'bolta',\n",
       " 'boly',\n",
       " 'bomb',\n",
       " 'bombarded',\n",
       " 'bombardment',\n",
       " 'bombed',\n",
       " 'bomber',\n",
       " 'bombers',\n",
       " 'bombing',\n",
       " 'bombings',\n",
       " 'bombs',\n",
       " 'bond',\n",
       " 'booby',\n",
       " 'book',\n",
       " 'boomers',\n",
       " 'boost',\n",
       " 'boot',\n",
       " 'booze',\n",
       " 'bora',\n",
       " 'border',\n",
       " 'borders',\n",
       " 'bordr',\n",
       " 'born',\n",
       " 'boro',\n",
       " 'borrowed',\n",
       " 'both',\n",
       " 'bottomline',\n",
       " 'bound',\n",
       " 'boundaries',\n",
       " 'boundary',\n",
       " 'boundless',\n",
       " 'bounty',\n",
       " 'bowing',\n",
       " 'boy',\n",
       " 'boys',\n",
       " 'boze',\n",
       " 'bra',\n",
       " 'bragged',\n",
       " 'brahmano',\n",
       " 'brain',\n",
       " 'brains',\n",
       " 'brainwashed',\n",
       " 'brainwashing',\n",
       " 'brakp',\n",
       " 'branch',\n",
       " 'brand',\n",
       " 'bravado',\n",
       " 'brave',\n",
       " 'brazenly',\n",
       " 'brazil',\n",
       " 'breached',\n",
       " 'break',\n",
       " 'breaking',\n",
       " 'breathing',\n",
       " 'breed',\n",
       " 'breeding',\n",
       " 'brexit',\n",
       " 'bribes',\n",
       " 'brigade',\n",
       " 'brigades',\n",
       " 'brigadier',\n",
       " 'bring',\n",
       " 'bringing',\n",
       " 'britain',\n",
       " 'british',\n",
       " 'bro',\n",
       " 'broken',\n",
       " 'broker',\n",
       " 'brother',\n",
       " 'brothers',\n",
       " 'brought',\n",
       " 'brunt',\n",
       " 'brutal',\n",
       " 'brutalise',\n",
       " 'brutality',\n",
       " 'bs',\n",
       " 'bt',\n",
       " 'bta',\n",
       " 'btaen',\n",
       " 'btana',\n",
       " 'btw',\n",
       " 'bu',\n",
       " 'buchy',\n",
       " 'buckle',\n",
       " 'buddies',\n",
       " 'budge',\n",
       " 'budget',\n",
       " 'budgets',\n",
       " 'bugn',\n",
       " 'buhat',\n",
       " 'build',\n",
       " 'building',\n",
       " 'built',\n",
       " 'buisness',\n",
       " 'bukhari',\n",
       " 'bull',\n",
       " 'bullet',\n",
       " 'bullets',\n",
       " 'bullshit',\n",
       " 'bulshit',\n",
       " 'bunch',\n",
       " 'bunlar',\n",
       " 'burai',\n",
       " 'burdasht',\n",
       " 'burma',\n",
       " 'burn',\n",
       " 'burning',\n",
       " 'burnt',\n",
       " 'burntterrorists',\n",
       " 'burqa',\n",
       " 'bury',\n",
       " 'bush',\n",
       " 'business',\n",
       " 'businessman',\n",
       " 'busted',\n",
       " 'busy',\n",
       " 'but',\n",
       " 'butcher',\n",
       " 'buy',\n",
       " 'buyers',\n",
       " 'bw',\n",
       " ...]"
      ]
     },
     "execution_count": 23,
     "metadata": {},
     "output_type": "execute_result"
    }
   ],
   "source": [
    "vectorizer.get_feature_names()"
   ]
  },
  {
   "cell_type": "code",
   "execution_count": 24,
   "id": "1cc9cf20",
   "metadata": {
    "pycharm": {
     "name": "#%%\n"
    }
   },
   "outputs": [
    {
     "data": {
      "text/plain": [
       "{'analyzer': 'word',\n",
       " 'binary': False,\n",
       " 'decode_error': 'strict',\n",
       " 'dtype': numpy.int64,\n",
       " 'encoding': 'utf-8',\n",
       " 'input': 'content',\n",
       " 'lowercase': True,\n",
       " 'max_df': 1.0,\n",
       " 'max_features': None,\n",
       " 'min_df': 1,\n",
       " 'ngram_range': (1, 1),\n",
       " 'preprocessor': None,\n",
       " 'stop_words': None,\n",
       " 'strip_accents': None,\n",
       " 'token_pattern': '(?u)\\\\b\\\\w\\\\w+\\\\b',\n",
       " 'tokenizer': None,\n",
       " 'vocabulary': None}"
      ]
     },
     "execution_count": 24,
     "metadata": {},
     "output_type": "execute_result"
    }
   ],
   "source": [
    "vectorizer.get_params()"
   ]
  },
  {
   "cell_type": "markdown",
   "id": "a969ab62",
   "metadata": {
    "pycharm": {
     "name": "#%% md\n"
    }
   },
   "source": [
    "# model training using svm"
   ]
  },
  {
   "cell_type": "code",
   "execution_count": 25,
   "id": "079d7f0b",
   "metadata": {
    "pycharm": {
     "name": "#%%\n"
    }
   },
   "outputs": [],
   "source": [
    "from sklearn.svm import SVC"
   ]
  },
  {
   "cell_type": "code",
   "execution_count": 26,
   "id": "23913acd",
   "metadata": {
    "pycharm": {
     "name": "#%%\n"
    }
   },
   "outputs": [],
   "source": [
    "model=SVC(kernel='linear')"
   ]
  },
  {
   "cell_type": "code",
   "execution_count": 27,
   "id": "5e8aac89",
   "metadata": {
    "pycharm": {
     "name": "#%%\n"
    }
   },
   "outputs": [
    {
     "data": {
      "text/plain": [
       "SVC(kernel='linear')"
      ]
     },
     "execution_count": 27,
     "metadata": {},
     "output_type": "execute_result"
    }
   ],
   "source": [
    "model.fit(trainX,trainY)"
   ]
  },
  {
   "cell_type": "markdown",
   "id": "66fbde5e",
   "metadata": {
    "pycharm": {
     "name": "#%% md\n"
    }
   },
   "source": [
    "# loading the test data"
   ]
  },
  {
   "cell_type": "code",
   "execution_count": 28,
   "id": "ee786486",
   "metadata": {
    "pycharm": {
     "name": "#%%\n"
    }
   },
   "outputs": [],
   "source": [
    "test_data=pd.read_csv('testingdata.csv')\n",
    "test_data=test_data.dropna()\n",
    "X_test=vectorizer.transform(test_data['tweet'])\n",
    "Y_test=test_data['label']\n"
   ]
  },
  {
   "cell_type": "code",
   "execution_count": 29,
   "id": "0e8d33b3",
   "metadata": {
    "pycharm": {
     "name": "#%%\n"
    }
   },
   "outputs": [],
   "source": [
    "pred=model.predict(X_test)"
   ]
  },
  {
   "cell_type": "markdown",
   "id": "bab462f4",
   "metadata": {
    "pycharm": {
     "name": "#%% md\n"
    }
   },
   "source": [
    "# model evaluation of SVC"
   ]
  },
  {
   "cell_type": "code",
   "execution_count": 30,
   "id": "364964fb",
   "metadata": {
    "pycharm": {
     "name": "#%%\n"
    }
   },
   "outputs": [],
   "source": [
    "from sklearn.metrics import accuracy_score , classification_report , confusion_matrix"
   ]
  },
  {
   "cell_type": "code",
   "execution_count": 31,
   "id": "988cb9c4",
   "metadata": {
    "pycharm": {
     "name": "#%%\n"
    }
   },
   "outputs": [
    {
     "name": "stdout",
     "output_type": "stream",
     "text": [
      "0.8595744680851064\n"
     ]
    }
   ],
   "source": [
    "print(accuracy_score(pred,Y_test))"
   ]
  },
  {
   "cell_type": "code",
   "execution_count": 32,
   "id": "0c5fd927",
   "metadata": {
    "pycharm": {
     "name": "#%%\n"
    }
   },
   "outputs": [
    {
     "name": "stdout",
     "output_type": "stream",
     "text": [
      "[[138  16]\n",
      " [ 17  64]]\n"
     ]
    }
   ],
   "source": [
    "print(confusion_matrix(pred,Y_test))"
   ]
  },
  {
   "cell_type": "code",
   "execution_count": 33,
   "id": "a751651e",
   "metadata": {
    "pycharm": {
     "name": "#%%\n"
    }
   },
   "outputs": [
    {
     "name": "stdout",
     "output_type": "stream",
     "text": [
      "              precision    recall  f1-score   support\n",
      "\n",
      "         0.0       0.89      0.90      0.89       154\n",
      "         1.0       0.80      0.79      0.80        81\n",
      "\n",
      "    accuracy                           0.86       235\n",
      "   macro avg       0.85      0.84      0.84       235\n",
      "weighted avg       0.86      0.86      0.86       235\n",
      "\n"
     ]
    }
   ],
   "source": [
    "print(classification_report(pred,Y_test))"
   ]
  },
  {
   "cell_type": "code",
   "execution_count": 34,
   "id": "b10edcf0",
   "metadata": {
    "pycharm": {
     "name": "#%%\n"
    }
   },
   "outputs": [
    {
     "data": {
      "text/plain": [
       "<AxesSubplot:>"
      ]
     },
     "execution_count": 34,
     "metadata": {},
     "output_type": "execute_result"
    },
    {
     "data": {
      "image/png": "[encoded data removed]",
      "text/plain": [
       "<Figure size 432x288 with 2 Axes>"
      ]
     },
     "metadata": {
      "needs_background": "light"
     },
     "output_type": "display_data"
    }
   ],
   "source": [
    "sns.heatmap(confusion_matrix(pred,Y_test))"
   ]
  },
  {
   "cell_type": "markdown",
   "id": "4bd76e37",
   "metadata": {
    "pycharm": {
     "name": "#%% md\n"
    }
   },
   "source": [
    "# trying another algorithm Logistic Regression"
   ]
  },
  {
   "cell_type": "code",
   "execution_count": 35,
   "id": "fe66076a",
   "metadata": {
    "pycharm": {
     "name": "#%%\n"
    }
   },
   "outputs": [],
   "source": [
    "from sklearn.linear_model import LogisticRegression"
   ]
  },
  {
   "cell_type": "code",
   "execution_count": 36,
   "id": "0be016af",
   "metadata": {
    "pycharm": {
     "name": "#%%\n"
    }
   },
   "outputs": [],
   "source": [
    "lg=LogisticRegression()"
   ]
  },
  {
   "cell_type": "code",
   "execution_count": 37,
   "id": "4998ae56",
   "metadata": {
    "pycharm": {
     "name": "#%%\n"
    }
   },
   "outputs": [
    {
     "data": {
      "text/plain": [
       "LogisticRegression()"
      ]
     },
     "execution_count": 37,
     "metadata": {},
     "output_type": "execute_result"
    }
   ],
   "source": [
    "lg.fit(trainX,trainY)"
   ]
  },
  {
   "cell_type": "code",
   "execution_count": 38,
   "id": "df7cc7c8",
   "metadata": {
    "pycharm": {
     "name": "#%%\n"
    }
   },
   "outputs": [],
   "source": [
    "predlg=lg.predict(X_test)"
   ]
  },
  {
   "cell_type": "markdown",
   "id": "7cf11c01",
   "metadata": {
    "pycharm": {
     "name": "#%% md\n"
    }
   },
   "source": [
    "# evaluation of Logistic Regression"
   ]
  },
  {
   "cell_type": "code",
   "execution_count": 39,
   "id": "abfeedf1",
   "metadata": {
    "pycharm": {
     "name": "#%%\n"
    }
   },
   "outputs": [
    {
     "name": "stdout",
     "output_type": "stream",
     "text": [
      "0.8468085106382979\n"
     ]
    }
   ],
   "source": [
    "print(accuracy_score(predlg,Y_test))"
   ]
  },
  {
   "cell_type": "code",
   "execution_count": 40,
   "id": "8fb5270f",
   "metadata": {
    "pycharm": {
     "name": "#%%\n"
    }
   },
   "outputs": [
    {
     "name": "stdout",
     "output_type": "stream",
     "text": [
      "              precision    recall  f1-score   support\n",
      "\n",
      "         0.0       0.90      0.87      0.89       159\n",
      "         1.0       0.75      0.79      0.77        76\n",
      "\n",
      "    accuracy                           0.85       235\n",
      "   macro avg       0.82      0.83      0.83       235\n",
      "weighted avg       0.85      0.85      0.85       235\n",
      "\n"
     ]
    }
   ],
   "source": [
    "print(classification_report(predlg,Y_test))"
   ]
  },
  {
   "cell_type": "code",
   "execution_count": 41,
   "id": "9a0ec5a1",
   "metadata": {
    "pycharm": {
     "name": "#%%\n"
    }
   },
   "outputs": [
    {
     "data": {
      "text/plain": [
       "<AxesSubplot:>"
      ]
     },
     "execution_count": 41,
     "metadata": {},
     "output_type": "execute_result"
    },
    {
     "data": {
      "image/png": "[encoded data removed]",
      "text/plain": [
       "<Figure size 432x288 with 2 Axes>"
      ]
     },
     "metadata": {
      "needs_background": "light"
     },
     "output_type": "display_data"
    }
   ],
   "source": [
    "sns.heatmap(confusion_matrix(predlg,Y_test))"
   ]
  },
  {
   "cell_type": "markdown",
   "id": "e22c8d24",
   "metadata": {
    "pycharm": {
     "name": "#%% md\n"
    }
   },
   "source": [
    "# Trying Random Forest Classifier"
   ]
  },
  {
   "cell_type": "code",
   "execution_count": 42,
   "id": "2a8e730e",
   "metadata": {
    "pycharm": {
     "name": "#%%\n"
    }
   },
   "outputs": [],
   "source": [
    "from sklearn.ensemble import RandomForestClassifier"
   ]
  },
  {
   "cell_type": "code",
   "execution_count": 43,
   "id": "70de6e67",
   "metadata": {
    "pycharm": {
     "name": "#%%\n"
    }
   },
   "outputs": [],
   "source": [
    "randomforest=RandomForestClassifier()"
   ]
  },
  {
   "cell_type": "code",
   "execution_count": 44,
   "id": "222207c3",
   "metadata": {
    "pycharm": {
     "name": "#%%\n"
    }
   },
   "outputs": [
    {
     "data": {
      "text/plain": [
       "RandomForestClassifier()"
      ]
     },
     "execution_count": 44,
     "metadata": {},
     "output_type": "execute_result"
    }
   ],
   "source": [
    "randomforest.fit(trainX,trainY)"
   ]
  },
  {
   "cell_type": "markdown",
   "id": "e0739cea",
   "metadata": {
    "pycharm": {
     "name": "#%% md\n"
    }
   },
   "source": [
    "# Evaluating Random Forest Classifier"
   ]
  },
  {
   "cell_type": "code",
   "execution_count": 45,
   "id": "7f3546cc",
   "metadata": {
    "pycharm": {
     "name": "#%%\n"
    }
   },
   "outputs": [],
   "source": [
    "predrandomF=randomforest.predict(X_test)"
   ]
  },
  {
   "cell_type": "code",
   "execution_count": 46,
   "id": "b96f9108",
   "metadata": {
    "pycharm": {
     "name": "#%%\n"
    }
   },
   "outputs": [
    {
     "name": "stdout",
     "output_type": "stream",
     "text": [
      "              precision    recall  f1-score   support\n",
      "\n",
      "         0.0       0.89      0.89      0.89       155\n",
      "         1.0       0.79      0.79      0.79        80\n",
      "\n",
      "    accuracy                           0.86       235\n",
      "   macro avg       0.84      0.84      0.84       235\n",
      "weighted avg       0.86      0.86      0.86       235\n",
      "\n"
     ]
    }
   ],
   "source": [
    "print(classification_report(predrandomF,Y_test))"
   ]
  },
  {
   "cell_type": "code",
   "execution_count": 47,
   "id": "a501f954",
   "metadata": {
    "pycharm": {
     "name": "#%%\n"
    }
   },
   "outputs": [
    {
     "data": {
      "text/plain": [
       "0.8553191489361702"
      ]
     },
     "execution_count": 47,
     "metadata": {},
     "output_type": "execute_result"
    }
   ],
   "source": [
    "accuracy_score(predrandomF,Y_test)"
   ]
  },
  {
   "cell_type": "code",
   "execution_count": 48,
   "id": "86b1697d",
   "metadata": {
    "pycharm": {
     "name": "#%%\n"
    }
   },
   "outputs": [
    {
     "data": {
      "text/plain": [
       "array([[138,  17],\n",
       "       [ 17,  63]], dtype=int64)"
      ]
     },
     "execution_count": 48,
     "metadata": {},
     "output_type": "execute_result"
    }
   ],
   "source": [
    "confusion_matrix(predrandomF,Y_test)"
   ]
  },
  {
   "cell_type": "code",
   "execution_count": 49,
   "id": "b0541e4c",
   "metadata": {
    "pycharm": {
     "name": "#%%\n"
    }
   },
   "outputs": [
    {
     "data": {
      "text/plain": [
       "<AxesSubplot:>"
      ]
     },
     "execution_count": 49,
     "metadata": {},
     "output_type": "execute_result"
    },
    {
     "data": {
      "image/png": "[encoded data removed]",
      "text/plain": [
       "<Figure size 432x288 with 2 Axes>"
      ]
     },
     "metadata": {
      "needs_background": "light"
     },
     "output_type": "display_data"
    }
   ],
   "source": [
    "sns.heatmap(confusion_matrix(predrandomF,Y_test))"
   ]
  },
  {
   "cell_type": "code",
   "execution_count": 52,
   "id": "229d7b1e",
   "metadata": {
    "pycharm": {
     "name": "#%%\n"
    }
   },
   "outputs": [
    {
     "data": {
      "text/plain": [
       "KNeighborsClassifier()"
      ]
     },
     "execution_count": 52,
     "metadata": {},
     "output_type": "execute_result"
    }
   ],
   "source": [
    "KNN.fit(trainX,trainY)"
   ]
  },
  {
   "cell_type": "code",
   "execution_count": 53,
   "id": "57e9623b",
   "metadata": {
    "pycharm": {
     "name": "#%%\n"
    }
   },
   "outputs": [],
   "source": [
    "predknn=KNN.predict(X_test)"
   ]
  },
  {
   "cell_type": "markdown",
   "id": "d54e8742",
   "metadata": {
    "pycharm": {
     "name": "#%% md\n"
    }
   },
   "source": [
    "# evaluation of KNN"
   ]
  },
  {
   "cell_type": "code",
   "execution_count": 54,
   "id": "e6c01805",
   "metadata": {
    "pycharm": {
     "name": "#%%\n"
    }
   },
   "outputs": [
    {
     "name": "stdout",
     "output_type": "stream",
     "text": [
      "              precision    recall  f1-score   support\n",
      "\n",
      "         0.0       0.94      0.73      0.82       199\n",
      "         1.0       0.33      0.72      0.45        36\n",
      "\n",
      "    accuracy                           0.73       235\n",
      "   macro avg       0.63      0.73      0.63       235\n",
      "weighted avg       0.84      0.73      0.76       235\n",
      "\n"
     ]
    }
   ],
   "source": [
    "print(classification_report(predknn,Y_test))"
   ]
  },
  {
   "cell_type": "code",
   "execution_count": 55,
   "id": "a6072681",
   "metadata": {
    "pycharm": {
     "name": "#%%\n"
    }
   },
   "outputs": [
    {
     "data": {
      "text/plain": [
       "array([[145,  54],\n",
       "       [ 10,  26]], dtype=int64)"
      ]
     },
     "execution_count": 55,
     "metadata": {},
     "output_type": "execute_result"
    }
   ],
   "source": [
    "confusion_matrix(predknn,Y_test)"
   ]
  },
  {
   "cell_type": "code",
   "execution_count": 56,
   "id": "0a74dd8c",
   "metadata": {
    "pycharm": {
     "name": "#%%\n"
    }
   },
   "outputs": [
    {
     "data": {
      "text/plain": [
       "0.7276595744680852"
      ]
     },
     "execution_count": 56,
     "metadata": {},
     "output_type": "execute_result"
    }
   ],
   "source": [
    "accuracy_score(predknn,Y_test)"
   ]
  },
  {
   "cell_type": "code",
   "execution_count": 57,
   "id": "bb1f9655",
   "metadata": {
    "pycharm": {
     "name": "#%%\n"
    }
   },
   "outputs": [
    {
     "data": {
      "text/plain": [
       "<AxesSubplot:>"
      ]
     },
     "execution_count": 57,
     "metadata": {},
     "output_type": "execute_result"
    },
    {
     "data": {
      "image/png": "[encoded data removed]",
      "text/plain": [
       "<Figure size 432x288 with 2 Axes>"
      ]
     },
     "metadata": {
      "needs_background": "light"
     },
     "output_type": "display_data"
    }
   ],
   "source": [
    "sns.heatmap(confusion_matrix(predknn,Y_test))"
   ]
  },
  {
   "cell_type": "markdown",
   "id": "87e3887e",
   "metadata": {
    "pycharm": {
     "name": "#%% md\n"
    }
   },
   "source": [
    "# as we have noticed that RandomForestClassifier is giving us the highest accuracy so we will use that model."
   ]
  },
  {
   "cell_type": "code",
   "execution_count": 58,
   "id": "3ee90523",
   "metadata": {
    "pycharm": {
     "name": "#%%\n"
    }
   },
   "outputs": [],
   "source": [
    "from sklearn.pipeline import Pipeline\n",
    "from sklearn.feature_extraction.text import TfidfTransformer , CountVectorizer"
   ]
  },
  {
   "cell_type": "markdown",
   "id": "58d2c06b",
   "metadata": {
    "pycharm": {
     "name": "#%% md\n"
    }
   },
   "source": [
    "# using a pipeline to save the model for deployment"
   ]
  },
  {
   "cell_type": "code",
   "execution_count": 59,
   "id": "9e3538e7",
   "metadata": {
    "pycharm": {
     "name": "#%%\n"
    }
   },
   "outputs": [],
   "source": [
    "pipe=Pipeline([\n",
    "    ('vectorizer',CountVectorizer()),\n",
    "    ('trnasformer',TfidfTransformer()),\n",
    "    ('model' , RandomForestClassifier())\n",
    "    \n",
    "]) "
   ]
  },
  {
   "cell_type": "code",
   "execution_count": 60,
   "id": "36c0691e",
   "metadata": {
    "pycharm": {
     "name": "#%%\n"
    }
   },
   "outputs": [
    {
     "data": {
      "text/plain": [
       "Pipeline(steps=[('vectorizer', CountVectorizer()),\n",
       "                ('trnasformer', TfidfTransformer()),\n",
       "                ('model', RandomForestClassifier())])"
      ]
     },
     "execution_count": 60,
     "metadata": {},
     "output_type": "execute_result"
    }
   ],
   "source": [
    "pipe.fit(X,trainY)"
   ]
  },
  {
   "cell_type": "markdown",
   "id": "a5bb6892",
   "metadata": {
    "pycharm": {
     "name": "#%% md\n"
    }
   },
   "source": [
    "# evaluating our pipeline"
   ]
  },
  {
   "cell_type": "code",
   "execution_count": 61,
   "id": "b351e775",
   "metadata": {
    "pycharm": {
     "name": "#%%\n"
    }
   },
   "outputs": [],
   "source": [
    "pred=pipe.predict(test_data['tweet'])\n"
   ]
  },
  {
   "cell_type": "code",
   "execution_count": 62,
   "id": "fda301b9",
   "metadata": {
    "pycharm": {
     "name": "#%%\n"
    }
   },
   "outputs": [
    {
     "data": {
      "text/plain": [
       "0.8595744680851064"
      ]
     },
     "execution_count": 62,
     "metadata": {},
     "output_type": "execute_result"
    }
   ],
   "source": [
    "accuracy_score(pred,test_data['label'])"
   ]
  },
  {
   "cell_type": "code",
   "execution_count": 63,
   "id": "6ceb4924",
   "metadata": {
    "pycharm": {
     "name": "#%%\n"
    }
   },
   "outputs": [
    {
     "name": "stdout",
     "output_type": "stream",
     "text": [
      "              precision    recall  f1-score   support\n",
      "\n",
      "         0.0       0.90      0.89      0.89       156\n",
      "         1.0       0.79      0.80      0.79        79\n",
      "\n",
      "    accuracy                           0.86       235\n",
      "   macro avg       0.84      0.84      0.84       235\n",
      "weighted avg       0.86      0.86      0.86       235\n",
      "\n"
     ]
    }
   ],
   "source": [
    "print(classification_report(pred,test_data['label']))"
   ]
  },
  {
   "cell_type": "code",
   "execution_count": 64,
   "id": "77513134",
   "metadata": {
    "pycharm": {
     "name": "#%%\n"
    }
   },
   "outputs": [
    {
     "data": {
      "text/plain": [
       "array([[139,  17],\n",
       "       [ 16,  63]], dtype=int64)"
      ]
     },
     "execution_count": 64,
     "metadata": {},
     "output_type": "execute_result"
    }
   ],
   "source": [
    "confusion_matrix(pred,test_data['label'])"
   ]
  },
  {
   "cell_type": "code",
   "execution_count": 65,
   "id": "e4e0495b",
   "metadata": {
    "pycharm": {
     "name": "#%%\n"
    }
   },
   "outputs": [
    {
     "data": {
      "text/plain": [
       "<AxesSubplot:>"
      ]
     },
     "execution_count": 65,
     "metadata": {},
     "output_type": "execute_result"
    },
    {
     "data": {
      "image/png": "[encoded data removed]",
      "text/plain": [
       "<Figure size 432x288 with 2 Axes>"
      ]
     },
     "metadata": {
      "needs_background": "light"
     },
     "output_type": "display_data"
    }
   ],
   "source": [
    "sns.heatmap(confusion_matrix(pred,test_data['label']))"
   ]
  },
  {
   "cell_type": "code",
   "execution_count": 66,
   "id": "30e99152",
   "metadata": {
    "pycharm": {
     "name": "#%%\n"
    }
   },
   "outputs": [],
   "source": [
    "import pickle"
   ]
  },
  {
   "cell_type": "markdown",
   "id": "e49c4a21",
   "metadata": {
    "pycharm": {
     "name": "#%% md\n"
    }
   },
   "source": [
    "# saving our model using pickle"
   ]
  },
  {
   "cell_type": "code",
   "execution_count": 67,
   "id": "32cd4b15",
   "metadata": {
    "pycharm": {
     "name": "#%%\n"
    }
   },
   "outputs": [],
   "source": [
    "pickle.dump(pipe,open('my_model.pkl','wb'))"
   ]
  },
  {
   "cell_type": "code",
   "execution_count": 68,
   "id": "1297c054",
   "metadata": {
    "pycharm": {
     "name": "#%%\n"
    }
   },
   "outputs": [],
   "source": [
    "# loading and checking if our saved model works"
   ]
  },
  {
   "cell_type": "code",
   "execution_count": 69,
   "id": "14bef0a9",
   "metadata": {
    "pycharm": {
     "name": "#%%\n"
    }
   },
   "outputs": [],
   "source": [
    "RandomForest=pickle.load(open('my_model.pkl','rb'))"
   ]
  },
  {
   "cell_type": "code",
   "execution_count": 70,
   "id": "f78f9ac3",
   "metadata": {
    "pycharm": {
     "name": "#%%\n"
    }
   },
   "outputs": [],
   "source": [
    "preds=RandomForest.predict(test_data['tweet'])\n"
   ]
  },
  {
   "cell_type": "code",
   "execution_count": 71,
   "id": "5c0c38ff",
   "metadata": {
    "pycharm": {
     "name": "#%%\n"
    }
   },
   "outputs": [
    {
     "data": {
      "text/plain": [
       "0.8595744680851064"
      ]
     },
     "execution_count": 71,
     "metadata": {},
     "output_type": "execute_result"
    }
   ],
   "source": [
    "accuracy_score(preds,Y_test)"
   ]
  },
  {
   "cell_type": "code",
   "execution_count": 80,
   "id": "6f3653ff",
   "metadata": {
    "pycharm": {
     "name": "#%%\n"
    }
   },
   "outputs": [
    {
     "data": {
      "text/plain": [
       "array([1., 0., 1., 1., 1., 0., 0., 1., 1., 1., 0., 0., 1., 1., 1., 1., 0.,\n",
       "       1., 1., 1., 0., 0., 0., 0., 0., 0., 0., 0., 0., 0., 0., 0., 0., 0.,\n",
       "       1., 0., 0., 0., 0., 0., 0., 0., 0., 0., 0., 0., 1., 0., 0., 0., 0.,\n",
       "       0., 0., 0., 0., 0., 0., 0., 0., 0., 0., 0., 1., 0., 1., 0., 0., 0.,\n",
       "       0., 0., 1., 0., 1., 0., 0., 0., 0., 1., 0., 0., 0., 1., 1., 0., 1.,\n",
       "       0., 0., 1., 0., 1., 1., 0., 0., 0., 1., 0., 0., 0., 1., 0.])"
      ]
     },
     "execution_count": 80,
     "metadata": {},
     "output_type": "execute_result"
    }
   ],
   "source": [
    "preds=RandomForest.predict(test_data['tweet'][:100])     \n",
    "preds"
   ]
  },
  {
   "cell_type": "code",
   "execution_count": 78,
   "id": "b999b218",
   "metadata": {
    "pycharm": {
     "name": "#%%\n"
    }
   },
   "outputs": [],
   "source": [
    "result={}\n",
    "for i,j in zip(test_data['tweet'][:100],preds):\n",
    "    if j==0.0:\n",
    "        result[i]='Not anti State'\n",
    "    else:\n",
    "        result[i]='Anit State'"
   ]
  },
  {
   "cell_type": "code",
   "execution_count": 79,
   "id": "92df91d8",
   "metadata": {
    "pycharm": {
     "name": "#%%\n"
    }
   },
   "outputs": [
    {
     "data": {
      "text/plain": [
       "{'  The world knows that Pakistan is in itself a terrorist state run by the toons of the ISI and the Pakistan Army Kashmir went to flames at the behest of Pakistan in 1989 when BJP was not anywhere near power of Delhi and is still burning and shall keep so till Pak fuels it': 'Anit State',\n",
       " 'We do not need your sympathy but controlling  THUGs   ': 'Not anti State',\n",
       " ' Pakistan is a terrorist state yesterdays terrorist TTP is going to reconcile with ISI we highly condemn all relations among states and terrorist groups ISIPak Army ISISTerrorist': 'Anit State',\n",
       " '   was brought to the power by Pak Army and ISI to destroy Pashtoons Thats why he won in KPK first and then in Federal   for Pakistan is a terrorist state  ': 'Anit State',\n",
       " ' A country who harbours nurtures helps terrorists since ages is a terrorist state  ISI PAK ARMY help  terrorists infiltrate Bottomline  pakistan is a terrorist state and  is a TERRORIST    ': 'Anit State',\n",
       " 'American strategists thought they can defeat Taliban in partnership with Pakistan 3 trillion was wasted on a duplicitous Pak Army n ISI If they asked Tajikistan for supply routes it wouldve worked out better Declare Pak terrorist state Impose sanctions  ': 'Not anti State',\n",
       " ' This is the real face of  Terrorist state now its time to revert back and a strong reply should be given to   Army  This   of Pak army amp ISI only understand one language that is Brutal war': 'Not anti State',\n",
       " '  ISI         Taliban are the ISI amp Pak army murdering machine to kill Pashtuns    ': 'Anit State',\n",
       " '  Instead of declaring PAK a terrorist state Indian Government is giving lifeline  to Pak Army ISI n Terror groups Pakistan was is n will be an enemy to India n ally to China': 'Anit State',\n",
       " '     The rapist Pak army and ISI are doing genocide in Balochistan  They are kidnapping innocent and raping their womens  Plz raise the voice for my brothers stuck in terrorist state Pakistan      ': 'Anit State',\n",
       " 'Pakistan zindabad  ISI zindabad  Pak army zindabad  we are the only airforce to have shit down Israeli airforce  Israel is a terrorist state ': 'Not anti State',\n",
       " '  Get lost loser Your drama of saying Terrorism in Pakistan is over Terrorists like Kalbhushan and other RAW and RSS  Now save your Terrorist state of India frm RSS and other Terrorist groups  Pakistan Zindabad  PakArmy Zindabad  ISI Zindabad': 'Not anti State',\n",
       " '  Dont worry about Kashmir  its our baby  Pakistan is declared by FATF as Terrorist state amp not India  In the name of Kashmir ISI amp rouge Pak Army is taking you guys through garden path  In India people have the power to throw out a Govt ': 'Anit State',\n",
       " 'India bombed terrorist camps in POK in retaliation against Pulwama But real master is pak army  Long term Solution  Economic sanctions Baluchistan govt in exile FATF blacklisting Diplomatic isolation Terrorist list to include pak armyISI Pakistan declared Terrorist state': 'Anit State',\n",
       " ' Imran has already accepted that Pak army and ISI had trained the talibani terroristsBin laden was working for Pakistan Pakistan is truly a terrorist statethey should learn from PM Modihow to develop any nation': 'Anit State',\n",
       " 'Biggest Victory of Pakistan on International PlatformBig Slap on the face of India terrorist state and RAWKulbhushan Jadhav a decleared Indian spy and a terrorist by ICJ Salute to PAK ARMYISI  IMRAN KHAN      ': 'Not anti State',\n",
       " ' Baba Jo bhi ho danke ki chot pe ho Puri duniya ko pata chalna chahye ISI  Pak army  govt or terrorists ka Nexus aur Pakistan ek failed or terrorist state hai': 'Anit State',\n",
       " '  From decades Pak was denying  and now Pak PM admits its army and ISI  created armed militia or properly saying jihadi terrorist by depriving its ppl of healtheducation basic   is he trying to get Pakistan listed as a Terrorist State worldwide good': 'Anit State',\n",
       " 'Without any second  thought India must declare Pakistan a terrorist State because I dont think the crossborder terror activities of Pakistan towards India will ever be stopped until the Pak Army amp ISI will remains on the driving seat of any democratically elected Govt there  ': 'Anit State',\n",
       " ' Ap andhy ho ya Samajh Kuch nahi aata  Yeh BLA Balochistan liberation army ki terrorist thi Jo Pakistan ky khilaaf lar rahy Hain or terrorism phela rahy Hain riyasat ka kaam in jeso se mulk ko Pak karna hai yeh terrorist bani isme riyasat ka kasur ': 'Not anti State',\n",
       " '     Baloch area isnt directly connected to afghanistan for terrorist to hide Pak army has specifically mentioned many times that they ran away to Iran side of border Why will taliban take orders of CIA US left ammo so Now it doesnt ahs control over them': 'Not anti State',\n",
       " ' You are also a hypocrite by only blaming them and not what Pak Army did with them in Baluchistan You justify everything that the Pak Army did wrong by calling terrorists Recently 40 civilians were killed in Afghanistan by Pak Armys strike': 'Not anti State',\n",
       " 'Two Pak Army soldiers martyred during gun battle with terrorists in South Waziristan ISPR  ': 'Not anti State',\n",
       " '  Fake ID heres a Thing Suicide is Haram in Islam Killing Innocent people is also Haram in Islam Spreading Terror in blessed month is Forbidden by the One true God Allah swt  So theres no way this Terrorist will find a way to enter Paradise': 'Not anti State',\n",
       " ' Adha sa zyda comments sala shameless country begerat log india ka han jus sa ya zahir hota ka TTP or BLA ko funding india kr rha  Allah kra mumbai man terrorist attacks hon phir tumari chekhan niklan gi insalon ka sath to pak army or awam nimat la gi': 'Not anti State',\n",
       " 'BLA used to carry out such attacks due to its separatist claim But now rise in TTP styled terrorist attacks particularly suicide bombings targeting CPEC amp Pak Army is indicative of BLATTP Nexus as Baloch separatists donot have history of using suicide bombers previously  6': 'Not anti State',\n",
       " ' Very sad incident  I hope pak army will deal with those terrorists BLA': 'Not anti State',\n",
       " ' First of i am deeply saddened by this we Pakistanis are your brothers secondly baloch liberation army or bla isnt an army its a terrorist organization that will In Sha Allah be taken down by Pak Army you are well informed about cia involvement in Pak ': 'Not anti State',\n",
       " '   Abe vineet chutiye ye pakistani nh hai ye afghani ya balock terrorist hai pak army to khud inko maarti hai kese chutiye indian log ho tum wese abi nandan ko yd kro bad tum log Pakistan army ka muqabla to door ki bt hai ': 'Not anti State',\n",
       " 'Terrorists from Afghanistan attack Dewagar area of North Waziristan  8 young martyrs including three officers of Pak army  Pakistans strong protest with the Afghan government  Demand for implementation of Doha Agreement  Afghan soil must be cleared of terrorists Pakistan  ': 'Not anti State',\n",
       " ' Sorry doesnt even cut it Pak must be serious about combating this All high target areas and people must be on highest alert The female terrorist has a family all must be exposed on TV We need to know who she associated with in last year Hunt them all down Army needs act ': 'Not anti State',\n",
       " 'when corrupt tola imposed over the country again terrorism is speeding up across the country At least 40 plus army  have been martyred since 1april   Two Pak Army soldiers martyred during gun battle with terrorists in South Waziristan ISPR  ': 'Not anti State',\n",
       " 'Pakistan and China came without their consent but what about India who is giving money and arms to these idiots It is time for the Pak army to lunch commando operations against these terrorists and wipe them about for good': 'Not anti State',\n",
       " 'Suicide bombing to blow oneselves up is an act that Islamic terrorists do She took others lives too Labelling it out of desperation is justifying it This is NOT okay I feel the pain of Baloch amp what Pak army is doing But they are doing what they learnt from Islam': 'Anit State',\n",
       " '   haha U Loser is giving threats to who Pak Army n China With these tiny guns do u think tht you will conquer Pakistan n China U ll b crushed like insectsU r even not a Baloch n with a group of 10 Terrorist do you think tht u ll achieve what u say NO WAY ': 'Not anti State',\n",
       " ' Why doesnt Pakistan Army able to defeat such terrorists  Is Pak Army capable of doing so': 'Not anti State',\n",
       " ' Ghadaro ka asal thikana Jhanum hai Pak Army will crush these Raw funded terrorists They are not baloch': 'Not anti State',\n",
       " '   tum terrorist na bno to foj ka demagh khrab hy jo uthaye gi  pury pak mn sirf tum balochon ko hi uthana h army ny  jo terrorist hoga onko sahulat dy ga osko hi uthya jata hy aur uthana bhi chahye': 'Not anti State',\n",
       " 'Dear BHAKTS RSS passed outs  BALOCH LIBERATION ARMY BLA is considered as a separatist terrorist wing not only in Pak bt worldwide  13': 'Not anti State',\n",
       " ' Yes all those Indian sponsored terrorists organizations use to wear bangles Because they are cowards cant face pak Army  Tum sharab pee kar iss mitti kay na hoe  Tum Modi ka peshaab bhi pee lo na tu bhi tumko koi Indian nahi manay ga Lanti ': 'Not anti State',\n",
       " ' Pak army busy on politics rather they focus on border management and removed all terrorist elements who support by RAW  they waste their energy in politics wholl stay and who leaves': 'Not anti State',\n",
       " ' Two Pak Army soldiers martyred in South Waziristan during gun battle with Terrorists Martyred Soldiers were Identified as  26yearold Lance Naik Umar Ali Khan a resident of Bannu 23yearold Naik sepoy Muhammad Siraj ud Din a resident of Dera Ismail Khan ISPR': 'Not anti State',\n",
       " 'Recent Attack on Chinese might have serious implications on CPECLeadership should sit together amp put these threats to an end for the steady growth of PakWe must support our Army as the only barrier bw a common man amp these terrorists is our Army': 'Not anti State',\n",
       " '  Acha hua mr gya sala terrorist Jab tum pak army pa hamla karta tab kuch nai hota or apni baro lgata ho': 'Not anti State',\n",
       " '     Landkate terrorists Pak Army  ': 'Not anti State',\n",
       " '  Napak army only arresting social media activists Indian army should now help Pakistan to tackle terrorist Hate napak army': 'Anit State',\n",
       " 'Two Pak Army soldiers martyred during gun battle with terrorists in South Waziristan ISPR How did they regroup when Pak Afghan border has been fenced RIP  ': 'Not anti State',\n",
       " 'Pak army must lodge full scale nuke battle against Endia Israel amp Their allies Khalistan Manipur Nagalandamp 38 more occupied countries by Endia want independence  Pakistanis prefer martyrdom than slaveries or blackmailing of terrorist Endia ': 'Not anti State',\n",
       " 'Pak army instead of meddling in politics amp Afghanistan must focus on elimination of terrorism In past few months there is rise in terrorism Haunt down  amp TTP terrorists Show no mercy ': 'Not anti State',\n",
       " 'Pak army should eliminate  BLA indian  terrorist ': 'Not anti State',\n",
       " ' Pak army has to decide nuke war with terrorist Endia rather to confront conventional battle Time to cremate pagans amp purify World from their profanity  better to die on daily basis Collide full escalated nuclear war with obnoxious infidels Pak embraces martyrdom': 'Not anti State',\n",
       " ' This is first terrorist gift from seating anti state govt and its coalition partners who always barks against Pak Army Let wake up my dear State and take stern against the enemies of my country': 'Not anti State',\n",
       " 'Terrorists are attacking Pak army and our national interests on a daily basis now It is time that the establishment helps remove the stooges in charge of the govt and a few institutions or it will be too late   ': 'Not anti State',\n",
       " 'Andy Vermaut sharesTwo Pak Army soldiers martyred during gun battle with terrorists in South Waziristan ISPR  Public Relations ISPR armed   Thank you   ': 'Not anti State',\n",
       " 'We severely condemned the Terrorist attack on Chinese teachers in karachi University Its against the Long term friendship between Pakistan and chinapak china friendship Zindabad Pakistan Zindabad pak Army Zindabad  ': 'Not anti State',\n",
       " ' Two Pak Army soldier martyred while TTP terrorists have suffered heavy losses  ': 'Not anti State',\n",
       " 'Condemn Karachi university blast Pak army must eliminate these Baluch terrorists': 'Not anti State',\n",
       " '    Ek video mein Baloch freeom fighter pak army ki dead body ghaseet raha tha  Usi layak hai ye terrorist army patak patak kar chode inhe Baloch freedom fighter ': 'Not anti State',\n",
       " ' I think somebody should tell him Pak Army killed more in IBO based operations in past few weeks then the terrorists have in past 12 months But eh Drama chalnay do': 'Not anti State',\n",
       " ' Balochistan is the part of Pakistan and will remain the part of Pakistan and this socalled terrorists and inhuman are not the real sons of the brave Baloch people as they are paid dogs of your country and Pak Army will give them lessons within the limits of rule of law ': 'Not anti State',\n",
       " ' To get any peace Pak Army should stop committing atrocities on innocent civilians in the name of neutralizing terrorists  I cant imagine what atrocities a young educated mother of 2 kids must have gone through to blow up herself like that ': 'Anit State',\n",
       " '  Have any proofs Out Pak army knows well how to butcher bla terrorists  LeT Jaish e Muhammad And many organization are fighting for independent Kashmir ': 'Not anti State',\n",
       " 'It is stated with great Sorrow that today two more Soldiers of Pak Army are Martyred in Wazaristan in fighting with terrorists Shaheeds never diedhowever it is hetting my minds that why our Arms personnel are Martyred in every Attack what about the trainings lacking with us': 'Anit State',\n",
       " ' I dont believe itWhat a blame on Pak ArmyQuestion is why her family got killed by Army if this story is trueWas her family supporting terrorist against PakistanGive whole picture not a fraction of self creatrd stuff   ': 'Not anti State',\n",
       " ' No one should support an terrorist act done for whatever motive  If your fight is with Pak Army you are free to do but killing innocents and using a woman as a suicide bomber is cowardice ': 'Not anti State',\n",
       " ' Sahi karti hai Hamari Pak Armyjo in balocho ki gand martey haiye hai hi isi qabilsarey missing baloch terrorist haikill all these bastards': 'Not anti State',\n",
       " ' Pak Army should remove these terrorists from the face of the Earth': 'Not anti State',\n",
       " 'BLA does not represent Pakistan or the people of Balochistan nor its interest besides promoting warfare and fear  Pak Army and the nation of Pakistan has to fight against this terrorist outfit and all provinces must stand together against this group': 'Not anti State',\n",
       " '  This is the problem with you hardcore Pak Army fans Keep neutralizing until you may get neutralized but I suggest its never too late to stop funding and support extremist Terrorists using the religion of Peace ISLAM  as a tool by brainwashing poor youth of Afg and Pak': 'Anit State',\n",
       " 'May Allah swt protect Pakistan   strongly Condemn Terrorist BLA amp their faction Majeed Brigade   hope Terrorist Shari rots in eternal hell   Insha Allah': 'Not anti State',\n",
       " 'Anything happened fir karachi or lahore peoples its in limelite but not for baloch and KPKlots of them missing from that location in last s omany years Nobody worried about them Its a double face pak Hypocrisy Pak army itself doing kidnapping Terrorists country': 'Anit State',\n",
       " 'Terrorists of  once again Wreaking Havoc  Wheres Law amp Justice when you need them  These barbarians should be made an example for others to fear': 'Not anti State',\n",
       " '  Chickens always come home to roost Sow wind youll reap whirlwind Theser two timetested proverbs Indias been protesting about terror attacks to Pakistan but no actions taken by that country How can Pak do that because Pak armys the patron saints of terrorists Recoiling': 'Not anti State',\n",
       " 'Their is a difference between retreating amp running from the battlefield We hunt all khawariji TTP terrorists amp Indian Army   Ive decided to give you a trailer thank Pak Army showing mercy to your comrades we the people of Pakistan will never spare you   CANT STOP ME NOW   ': 'Not anti State',\n",
       " '  Freedom Fighter not terrorist Dont forget Balochistan was occupied by Pak Army in 19571958': 'Not anti State',\n",
       " '   BLA amp TTP Mujahideen are also fighting for their land with Punjabi army and they keep killing 45 of your soldiers on their land every day both are doing same but for pak nationalists theyre terrorist who himself is biggest terrorist punjabi army supporter who massacred benglis': 'Anit State',\n",
       " ' India want to stop chaina pak economical corridor by a terrorist group call Baloch liberation army': 'Not anti State',\n",
       " '   enemies treat us the samegive it back in the same language  Im not sure what you mean by that  By all means please ask the Indian army to attack the Pakistani terrorists and Pakistan army for causing harm to India  But how does the Pak cricket team come into the pic': 'Not anti State',\n",
       " ' Afghans are the real enemies of Pakistan They have deep hatred And Pak Army needs to destroy the terrorists attacking from across the border': 'Not anti State',\n",
       " '    probably should have said this to the islamic terrorists during the kashmir pundit genocide and to the pak army during the bangladesh genocide huh': 'Anit State',\n",
       " '  1 1947 Pak sent army to capture Kashmir despite legal annexation by India 2 1965  Operation Gibralter by Pak 3 1971  Operation Changez Khan by Pak 4 1999  Kargil war Pak sent insurgents  And innumerable other ongoing terrorist attemptsplz Google': 'Anit State',\n",
       " ' Military withdrawal from FATA clearly means a Surrender for Pak Army even after gaining full control of the territory Afg Taliban should eliminate TTP terrorists in Afg to maintain healthy and trustworthy relationship with PakistanFurther isolation will not help ur country': 'Not anti State',\n",
       " ' Pak Army Turned Mujahedeen of Soviet Afghan War into Terrorist on American Wish Musharaf  bombs mujahidin in KPK amp mujaheden become  our enemy': 'Anit State',\n",
       " ' Konsa zulm Pak army terrorist ko pakar rhi hai ab wo Balochistan ka gharon mein hai tou ab yeh Balochistan walon ki ghalti hai na army ki thodiagar begunah bhi agar pakra gaya hai tou tou jis soldier ne us ko pakara hai us ke khilaf Jana chaiye na ke Puri army ka': 'Not anti State',\n",
       " ' Thy were mukti bahnis extremist terrorist hindus which did genocide of BD people wearing pak army uniforms after stealing or make its copy 34k pak army vs 400k Indarny250k M Bahni terrorists Write Manek Sha ind Gen 65 war in YouTube he disclosed this facts': 'Not anti State',\n",
       " '  Islamic Barbarity of Pak terrorists of LET amp JEM promoted by Pak Army and ISI hv caused mayhem in Kashmir  If u were really loving Kashmiris u wd nt hv done this Following Jinnah  Taliban moving away terrorists from Pak border Report  ': 'Anit State',\n",
       " '  bro tu jitna mrzi bat ko ghuma le mn ab b yhi khungaAny terrorist that will try to mess with Pak Army should have his grave prepared': 'Not anti State',\n",
       " '   Yes imran was a good leader But Pakistan has a history of being governed internally by isi and the Army If that problem clears then both India and Pakistan can work together to fight those terrorists in Pak and find a solution to Kashmir diplomatically': 'Anit State',\n",
       " ' We know 80 of terrorist Taliban are Pakistani Pashtuns After invaded Afghanistan  Pak army wants to train their soldiers in Afghanistan ': 'Anit State',\n",
       " ' It was not from Pak Army Sawat velly was civilian area and they terrorized locals picked there doghters killed there sons And then cam pak army and sent there terrorists to hell Not a single one survived Pak army is army of Allah who gave this ummat respect victory in': 'Not anti State',\n",
       " ' Imran praises Ramzi Yousaf Aimal Kansi Shaikh Muhammad and criticises then govts for extraditing them to US laments killing of TTP leaders in drone attacks accuses Pak army not the terrorists for killing 80000 Pakistanis and still expects people not to call him Taliban Khan': 'Not anti State',\n",
       " 'Heroes of PAKISTAN three soldier Martyred in North Waziristan yesterday during gun battle with terrorists from Afghanistan We salutes the Pak Army for its immense sacrifices        ': 'Not anti State',\n",
       " ' The Pakistan army head quarters HQs are the safe haven of terrorists Afghans are the victims of the terrorism produce train armed and nurished in Pak army HQs ': 'Anit State',\n",
       " '  To capture Pak infiltrated Terrorists in Kashmir or elsewhere the local Area Commander of Army knows how to tackle the problems in that region They certainly do all such actions with the prior permission of their Superiors So restraint must be shown before issuing statements': 'Not anti State',\n",
       " ' Sure Pakistanis love ImranKhan and will bring him again on his seat by Votes We all Pakistanis  hate USA coz America  Is Terrorist amp damaging small countries through Regime Change  We all  are well aware now and all nation is ready for to fight  these American agents within': 'Not anti State',\n",
       " 'This is another favor which the Americans have done to Pakistan by leaving latest weaponsnight vision goggles and plenty of ammunition in Afghanistan for the Terrorists to use against the Pak Army   This is the main reason for the increase in the casualties of our soldiers': 'Not anti State',\n",
       " '2 terrorists held in India met Pak Army Major who is seen in photo with IAFsAbhinandan  ': 'Anit State',\n",
       " ' 1 pak army Ashraf nabi killed today in a clash with militns in Waziristan   casualty not reported by army see in commet martyred fighting with terrorist in Waziristan  ': 'Not anti State'}"
      ]
     },
     "execution_count": 79,
     "metadata": {},
     "output_type": "execute_result"
    }
   ],
   "source": [
    "result"
   ]
  },
  {
   "cell_type": "code",
   "execution_count": null,
   "id": "1acdb62d",
   "metadata": {
    "pycharm": {
     "name": "#%%\n"
    }
   },
   "outputs": [],
   "source": []
  },
  {
   "cell_type": "code",
   "execution_count": null,
   "id": "cdb154e0",
   "metadata": {
    "pycharm": {
     "name": "#%%\n"
    }
   },
   "outputs": [],
   "source": []
  }
 ],
 "metadata": {
  "kernelspec": {
   "display_name": "Python 3",
   "language": "python",
   "name": "python3"
  },
  "language_info": {
   "codemirror_mode": {
    "name": "ipython",
    "version": 3
   },
   "file_extension": ".py",
   "mimetype": "text/x-python",
   "name": "python",
   "nbconvert_exporter": "python",
   "pygments_lexer": "ipython3",
   "version": "3.8.8"
  }
 },
 "nbformat": 4,
 "nbformat_minor": 5
}